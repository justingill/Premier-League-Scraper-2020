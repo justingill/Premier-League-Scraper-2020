{
 "cells": [
  {
   "cell_type": "code",
   "execution_count": 1,
   "metadata": {},
   "outputs": [],
   "source": [
    "import pandas as pd\n",
    "import numpy as np\n",
    "import seaborn as sns\n",
    "import matplotlib.pyplot as plt\n",
    "import os\n",
    "import shutil"
   ]
  },
  {
   "cell_type": "code",
   "execution_count": 2,
   "metadata": {},
   "outputs": [],
   "source": [
    "cwd = os.getcwd()"
   ]
  },
  {
   "cell_type": "code",
   "execution_count": 3,
   "metadata": {},
   "outputs": [
    {
     "data": {
      "text/plain": [
       "'C:\\\\Users\\\\krunc\\\\Desktop\\\\Python Notebooks\\\\ScraperPL'"
      ]
     },
     "execution_count": 3,
     "metadata": {},
     "output_type": "execute_result"
    }
   ],
   "source": [
    "cwd"
   ]
  },
  {
   "cell_type": "code",
   "execution_count": 4,
   "metadata": {},
   "outputs": [],
   "source": [
    "standard_stats = pd.read_csv(cwd + '\\\\raw_data\\AllPlayersTable0.csv')"
   ]
  },
  {
   "cell_type": "code",
   "execution_count": 5,
   "metadata": {},
   "outputs": [
    {
     "name": "stdout",
     "output_type": "stream",
     "text": [
      "<class 'pandas.core.frame.DataFrame'>\n",
      "RangeIndex: 621 entries, 0 to 620\n",
      "Data columns (total 28 columns):\n",
      " #   Column                    Non-Null Count  Dtype  \n",
      "---  ------                    --------------  -----  \n",
      " 0   player                    621 non-null    object \n",
      " 1   nationality               619 non-null    object \n",
      " 2   position                  621 non-null    object \n",
      " 3   age                       614 non-null    float64\n",
      " 4   games                     621 non-null    int64  \n",
      " 5   games_starts              621 non-null    int64  \n",
      " 6   minutes                   522 non-null    object \n",
      " 7   goals                     522 non-null    float64\n",
      " 8   assists                   522 non-null    float64\n",
      " 9   pens_made                 522 non-null    float64\n",
      " 10  pens_att                  522 non-null    float64\n",
      " 11  cards_yellow              522 non-null    float64\n",
      " 12  cards_red                 522 non-null    float64\n",
      " 13  goals_per90               522 non-null    float64\n",
      " 14  assists_per90             522 non-null    float64\n",
      " 15  goals_assists_per90       522 non-null    float64\n",
      " 16  goals_pens_per90          522 non-null    float64\n",
      " 17  goals_assists_pens_per90  522 non-null    float64\n",
      " 18  xg                        521 non-null    float64\n",
      " 19  npxg                      521 non-null    float64\n",
      " 20  xa                        521 non-null    float64\n",
      " 21  xg_per90                  521 non-null    float64\n",
      " 22  xa_per90                  521 non-null    float64\n",
      " 23  xg_xa_per90               521 non-null    float64\n",
      " 24  npxg_per90                521 non-null    float64\n",
      " 25  npxg_xa_per90             521 non-null    float64\n",
      " 26  matches                   621 non-null    object \n",
      " 27  team                      621 non-null    object \n",
      "dtypes: float64(20), int64(2), object(6)\n",
      "memory usage: 136.0+ KB\n"
     ]
    }
   ],
   "source": [
    "standard_stats.info()"
   ]
  },
  {
   "cell_type": "code",
   "execution_count": 6,
   "metadata": {},
   "outputs": [],
   "source": [
    "#standard_stats = standard_stats.iloc[:,:12].copy()"
   ]
  },
  {
   "cell_type": "code",
   "execution_count": 7,
   "metadata": {},
   "outputs": [],
   "source": [
    "standard_stats.iloc[:,4:] = standard_stats.iloc[:,4:].fillna(0)"
   ]
  },
  {
   "cell_type": "code",
   "execution_count": 8,
   "metadata": {},
   "outputs": [
    {
     "name": "stdout",
     "output_type": "stream",
     "text": [
      "<class 'pandas.core.frame.DataFrame'>\n",
      "RangeIndex: 621 entries, 0 to 620\n",
      "Data columns (total 28 columns):\n",
      " #   Column                    Non-Null Count  Dtype  \n",
      "---  ------                    --------------  -----  \n",
      " 0   player                    621 non-null    object \n",
      " 1   nationality               619 non-null    object \n",
      " 2   position                  621 non-null    object \n",
      " 3   age                       614 non-null    float64\n",
      " 4   games                     621 non-null    int64  \n",
      " 5   games_starts              621 non-null    int64  \n",
      " 6   minutes                   621 non-null    object \n",
      " 7   goals                     621 non-null    float64\n",
      " 8   assists                   621 non-null    float64\n",
      " 9   pens_made                 621 non-null    float64\n",
      " 10  pens_att                  621 non-null    float64\n",
      " 11  cards_yellow              621 non-null    float64\n",
      " 12  cards_red                 621 non-null    float64\n",
      " 13  goals_per90               621 non-null    float64\n",
      " 14  assists_per90             621 non-null    float64\n",
      " 15  goals_assists_per90       621 non-null    float64\n",
      " 16  goals_pens_per90          621 non-null    float64\n",
      " 17  goals_assists_pens_per90  621 non-null    float64\n",
      " 18  xg                        621 non-null    float64\n",
      " 19  npxg                      621 non-null    float64\n",
      " 20  xa                        621 non-null    float64\n",
      " 21  xg_per90                  621 non-null    float64\n",
      " 22  xa_per90                  621 non-null    float64\n",
      " 23  xg_xa_per90               621 non-null    float64\n",
      " 24  npxg_per90                621 non-null    float64\n",
      " 25  npxg_xa_per90             621 non-null    float64\n",
      " 26  matches                   621 non-null    object \n",
      " 27  team                      621 non-null    object \n",
      "dtypes: float64(20), int64(2), object(6)\n",
      "memory usage: 136.0+ KB\n"
     ]
    }
   ],
   "source": [
    "standard_stats.info()"
   ]
  },
  {
   "cell_type": "code",
   "execution_count": 9,
   "metadata": {},
   "outputs": [],
   "source": [
    "goalkeeping = pd.read_csv(cwd + '\\\\raw_data\\AllPlayersTable1.csv')"
   ]
  },
  {
   "cell_type": "code",
   "execution_count": 10,
   "metadata": {},
   "outputs": [],
   "source": [
    "goalkeeping.iloc[:,4:] = goalkeeping.iloc[:,4:].fillna(0)"
   ]
  },
  {
   "cell_type": "code",
   "execution_count": 11,
   "metadata": {},
   "outputs": [
    {
     "name": "stdout",
     "output_type": "stream",
     "text": [
      "<class 'pandas.core.frame.DataFrame'>\n",
      "RangeIndex: 37 entries, 0 to 36\n",
      "Data columns (total 23 columns):\n",
      " #   Column                   Non-Null Count  Dtype  \n",
      "---  ------                   --------------  -----  \n",
      " 0   player                   37 non-null     object \n",
      " 1   nationality              37 non-null     object \n",
      " 2   position                 37 non-null     object \n",
      " 3   age                      37 non-null     int64  \n",
      " 4   games_gk                 37 non-null     int64  \n",
      " 5   games_starts_gk          37 non-null     int64  \n",
      " 6   minutes_gk               37 non-null     object \n",
      " 7   goals_against_gk         37 non-null     int64  \n",
      " 8   goals_against_per90_gk   37 non-null     float64\n",
      " 9   shots_on_target_against  37 non-null     int64  \n",
      " 10  saves                    37 non-null     int64  \n",
      " 11  save_pct                 37 non-null     float64\n",
      " 12  wins_gk                  37 non-null     int64  \n",
      " 13  draws_gk                 37 non-null     int64  \n",
      " 14  losses_gk                37 non-null     int64  \n",
      " 15  clean_sheets             37 non-null     int64  \n",
      " 16  clean_sheets_pct         37 non-null     float64\n",
      " 17  pens_att_gk              37 non-null     int64  \n",
      " 18  pens_allowed             37 non-null     int64  \n",
      " 19  pens_saved               37 non-null     int64  \n",
      " 20  pens_missed_gk           37 non-null     int64  \n",
      " 21  matches                  37 non-null     object \n",
      " 22  team                     37 non-null     object \n",
      "dtypes: float64(3), int64(14), object(6)\n",
      "memory usage: 6.8+ KB\n"
     ]
    }
   ],
   "source": [
    "goalkeeping.info()"
   ]
  },
  {
   "cell_type": "code",
   "execution_count": 12,
   "metadata": {},
   "outputs": [],
   "source": [
    "advanced_goalkeeping = pd.read_csv(cwd + '\\\\raw_data\\AllPlayersTable2.csv')"
   ]
  },
  {
   "cell_type": "code",
   "execution_count": 13,
   "metadata": {},
   "outputs": [],
   "source": [
    "advanced_goalkeeping.iloc[:,5:] = advanced_goalkeeping.iloc[:,5:].fillna(0)"
   ]
  },
  {
   "cell_type": "code",
   "execution_count": 14,
   "metadata": {},
   "outputs": [
    {
     "name": "stdout",
     "output_type": "stream",
     "text": [
      "<class 'pandas.core.frame.DataFrame'>\n",
      "RangeIndex: 37 entries, 0 to 36\n",
      "Data columns (total 32 columns):\n",
      " #   Column                                 Non-Null Count  Dtype  \n",
      "---  ------                                 --------------  -----  \n",
      " 0   player                                 37 non-null     object \n",
      " 1   nationality                            37 non-null     object \n",
      " 2   position                               37 non-null     object \n",
      " 3   age                                    37 non-null     int64  \n",
      " 4   minutes_90s_gk                         37 non-null     float64\n",
      " 5   goals_against_gk                       37 non-null     int64  \n",
      " 6   pens_allowed                           37 non-null     int64  \n",
      " 7   free_kick_goals_against_gk             37 non-null     int64  \n",
      " 8   corner_kick_goals_against_gk           37 non-null     int64  \n",
      " 9   own_goals_against_gk                   37 non-null     int64  \n",
      " 10  psxg_gk                                37 non-null     float64\n",
      " 11  psnpxg_per_shot_on_target_against      37 non-null     float64\n",
      " 12  psxg_net_gk                            37 non-null     float64\n",
      " 13  psxg_net_per90_gk                      37 non-null     float64\n",
      " 14  passes_completed_launched_gk           37 non-null     int64  \n",
      " 15  passes_launched_gk                     37 non-null     int64  \n",
      " 16  passes_pct_launched_gk                 37 non-null     float64\n",
      " 17  passes_gk                              37 non-null     int64  \n",
      " 18  passes_throws_gk                       37 non-null     int64  \n",
      " 19  pct_passes_launched_gk                 37 non-null     float64\n",
      " 20  passes_length_avg_gk                   37 non-null     float64\n",
      " 21  goal_kicks                             37 non-null     int64  \n",
      " 22  pct_goal_kicks_launched                37 non-null     float64\n",
      " 23  goal_kick_length_avg                   37 non-null     float64\n",
      " 24  crosses_gk                             37 non-null     int64  \n",
      " 25  crosses_stopped_gk                     37 non-null     int64  \n",
      " 26  crosses_stopped_pct_gk                 37 non-null     float64\n",
      " 27  def_actions_outside_pen_area_gk        37 non-null     int64  \n",
      " 28  def_actions_outside_pen_area_per90_gk  37 non-null     float64\n",
      " 29  avg_distance_def_actions_gk            37 non-null     float64\n",
      " 30  matches                                37 non-null     object \n",
      " 31  team                                   37 non-null     object \n",
      "dtypes: float64(13), int64(14), object(5)\n",
      "memory usage: 9.4+ KB\n"
     ]
    }
   ],
   "source": [
    "advanced_goalkeeping.info()"
   ]
  },
  {
   "cell_type": "code",
   "execution_count": 15,
   "metadata": {},
   "outputs": [],
   "source": [
    "shooting = pd.read_csv(cwd + '\\\\raw_data\\AllPlayersTable3.csv')"
   ]
  },
  {
   "cell_type": "code",
   "execution_count": 16,
   "metadata": {},
   "outputs": [
    {
     "name": "stdout",
     "output_type": "stream",
     "text": [
      "<class 'pandas.core.frame.DataFrame'>\n",
      "RangeIndex: 522 entries, 0 to 521\n",
      "Data columns (total 23 columns):\n",
      " #   Column                    Non-Null Count  Dtype  \n",
      "---  ------                    --------------  -----  \n",
      " 0   player                    522 non-null    object \n",
      " 1   nationality               522 non-null    object \n",
      " 2   position                  522 non-null    object \n",
      " 3   age                       520 non-null    float64\n",
      " 4   minutes_90s               522 non-null    float64\n",
      " 5   goals                     522 non-null    int64  \n",
      " 6   shots_total               522 non-null    int64  \n",
      " 7   shots_on_target           522 non-null    int64  \n",
      " 8   shots_on_target_pct       439 non-null    float64\n",
      " 9   shots_total_per90         522 non-null    float64\n",
      " 10  shots_on_target_per90     522 non-null    float64\n",
      " 11  goals_per_shot            439 non-null    float64\n",
      " 12  goals_per_shot_on_target  367 non-null    float64\n",
      " 13  shots_free_kicks          521 non-null    float64\n",
      " 14  pens_made                 522 non-null    int64  \n",
      " 15  pens_att                  522 non-null    int64  \n",
      " 16  xg                        521 non-null    float64\n",
      " 17  npxg                      521 non-null    float64\n",
      " 18  npxg_per_shot             439 non-null    float64\n",
      " 19  xg_net                    521 non-null    float64\n",
      " 20  npxg_net                  521 non-null    float64\n",
      " 21  matches                   522 non-null    object \n",
      " 22  team                      522 non-null    object \n",
      "dtypes: float64(13), int64(5), object(5)\n",
      "memory usage: 93.9+ KB\n"
     ]
    }
   ],
   "source": [
    "shooting.info()"
   ]
  },
  {
   "cell_type": "code",
   "execution_count": 17,
   "metadata": {},
   "outputs": [],
   "source": [
    "shooting.iloc[:,5:] = shooting.iloc[:,5:].fillna(0)"
   ]
  },
  {
   "cell_type": "code",
   "execution_count": 18,
   "metadata": {},
   "outputs": [],
   "source": [
    "passing = pd.read_csv(cwd + '\\\\raw_data\\AllPlayersTable4.csv')"
   ]
  },
  {
   "cell_type": "code",
   "execution_count": 19,
   "metadata": {},
   "outputs": [
    {
     "name": "stdout",
     "output_type": "stream",
     "text": [
      "<class 'pandas.core.frame.DataFrame'>\n",
      "RangeIndex: 522 entries, 0 to 521\n",
      "Data columns (total 29 columns):\n",
      " #   Column                       Non-Null Count  Dtype  \n",
      "---  ------                       --------------  -----  \n",
      " 0   player                       522 non-null    object \n",
      " 1   nationality                  522 non-null    object \n",
      " 2   position                     522 non-null    object \n",
      " 3   age                          520 non-null    float64\n",
      " 4   minutes_90s                  522 non-null    float64\n",
      " 5   passes_completed             521 non-null    float64\n",
      " 6   passes                       521 non-null    float64\n",
      " 7   passes_pct                   517 non-null    float64\n",
      " 8   passes_total_distance        521 non-null    float64\n",
      " 9   passes_progressive_distance  521 non-null    float64\n",
      " 10  passes_completed_short       521 non-null    float64\n",
      " 11  passes_short                 521 non-null    float64\n",
      " 12  passes_pct_short             478 non-null    float64\n",
      " 13  passes_completed_medium      521 non-null    float64\n",
      " 14  passes_medium                521 non-null    float64\n",
      " 15  passes_pct_medium            516 non-null    float64\n",
      " 16  passes_completed_long        521 non-null    float64\n",
      " 17  passes_long                  521 non-null    float64\n",
      " 18  passes_pct_long              507 non-null    float64\n",
      " 19  assists                      522 non-null    int64  \n",
      " 20  xa                           521 non-null    float64\n",
      " 21  xa_net                       521 non-null    float64\n",
      " 22  assisted_shots               521 non-null    float64\n",
      " 23  passes_into_final_third      521 non-null    float64\n",
      " 24  passes_into_penalty_area     521 non-null    float64\n",
      " 25  crosses_into_penalty_area    521 non-null    float64\n",
      " 26  progressive_passes           521 non-null    float64\n",
      " 27  matches                      522 non-null    object \n",
      " 28  team                         522 non-null    object \n",
      "dtypes: float64(23), int64(1), object(5)\n",
      "memory usage: 118.4+ KB\n"
     ]
    }
   ],
   "source": [
    "passing.info()"
   ]
  },
  {
   "cell_type": "code",
   "execution_count": 20,
   "metadata": {},
   "outputs": [],
   "source": [
    "passing.iloc[:,5:] = passing.iloc[:,5:].fillna(0)"
   ]
  },
  {
   "cell_type": "code",
   "execution_count": 21,
   "metadata": {},
   "outputs": [],
   "source": [
    "pass_types = pd.read_csv(cwd + '\\\\raw_data\\AllPlayersTable5.csv')"
   ]
  },
  {
   "cell_type": "code",
   "execution_count": 22,
   "metadata": {},
   "outputs": [
    {
     "name": "stdout",
     "output_type": "stream",
     "text": [
      "<class 'pandas.core.frame.DataFrame'>\n",
      "RangeIndex: 522 entries, 0 to 521\n",
      "Data columns (total 32 columns):\n",
      " #   Column                 Non-Null Count  Dtype  \n",
      "---  ------                 --------------  -----  \n",
      " 0   player                 522 non-null    object \n",
      " 1   nationality            522 non-null    object \n",
      " 2   position               522 non-null    object \n",
      " 3   age                    520 non-null    float64\n",
      " 4   minutes_90s            522 non-null    float64\n",
      " 5   passes                 521 non-null    float64\n",
      " 6   passes_live            521 non-null    float64\n",
      " 7   passes_dead            521 non-null    float64\n",
      " 8   passes_free_kicks      521 non-null    float64\n",
      " 9   through_balls          521 non-null    float64\n",
      " 10  passes_pressure        521 non-null    float64\n",
      " 11  passes_switches        521 non-null    float64\n",
      " 12  crosses                522 non-null    int64  \n",
      " 13  corner_kicks           521 non-null    float64\n",
      " 14  corner_kicks_in        521 non-null    float64\n",
      " 15  corner_kicks_out       521 non-null    float64\n",
      " 16  corner_kicks_straight  521 non-null    float64\n",
      " 17  passes_ground          521 non-null    float64\n",
      " 18  passes_low             521 non-null    float64\n",
      " 19  passes_high            521 non-null    float64\n",
      " 20  passes_left_foot       521 non-null    float64\n",
      " 21  passes_right_foot      521 non-null    float64\n",
      " 22  passes_head            521 non-null    float64\n",
      " 23  throw_ins              521 non-null    float64\n",
      " 24  passes_other_body      521 non-null    float64\n",
      " 25  passes_completed       521 non-null    float64\n",
      " 26  passes_offsides        521 non-null    float64\n",
      " 27  passes_oob             521 non-null    float64\n",
      " 28  passes_intercepted     521 non-null    float64\n",
      " 29  passes_blocked         521 non-null    float64\n",
      " 30  matches                522 non-null    object \n",
      " 31  team                   522 non-null    object \n",
      "dtypes: float64(26), int64(1), object(5)\n",
      "memory usage: 130.6+ KB\n"
     ]
    }
   ],
   "source": [
    "pass_types.info()"
   ]
  },
  {
   "cell_type": "code",
   "execution_count": 23,
   "metadata": {},
   "outputs": [],
   "source": [
    "pass_types.iloc[:,5:] = pass_types.iloc[:,5:].fillna(0)"
   ]
  },
  {
   "cell_type": "code",
   "execution_count": 24,
   "metadata": {},
   "outputs": [],
   "source": [
    "goal_shot_creation = pd.read_csv(cwd + '\\\\raw_data\\AllPlayersTable6.csv')"
   ]
  },
  {
   "cell_type": "code",
   "execution_count": 25,
   "metadata": {},
   "outputs": [
    {
     "name": "stdout",
     "output_type": "stream",
     "text": [
      "<class 'pandas.core.frame.DataFrame'>\n",
      "RangeIndex: 522 entries, 0 to 521\n",
      "Data columns (total 22 columns):\n",
      " #   Column           Non-Null Count  Dtype  \n",
      "---  ------           --------------  -----  \n",
      " 0   player           522 non-null    object \n",
      " 1   nationality      522 non-null    object \n",
      " 2   position         522 non-null    object \n",
      " 3   age              520 non-null    float64\n",
      " 4   minutes_90s      522 non-null    float64\n",
      " 5   sca              521 non-null    float64\n",
      " 6   sca_per90        521 non-null    float64\n",
      " 7   sca_passes_live  521 non-null    float64\n",
      " 8   sca_passes_dead  521 non-null    float64\n",
      " 9   sca_dribbles     521 non-null    float64\n",
      " 10  sca_shots        521 non-null    float64\n",
      " 11  sca_fouled       521 non-null    float64\n",
      " 12  gca              521 non-null    float64\n",
      " 13  gca_per90        521 non-null    float64\n",
      " 14  gca_passes_live  521 non-null    float64\n",
      " 15  gca_passes_dead  521 non-null    float64\n",
      " 16  gca_dribbles     521 non-null    float64\n",
      " 17  gca_shots        521 non-null    float64\n",
      " 18  gca_fouled       521 non-null    float64\n",
      " 19  gca_og_for       521 non-null    float64\n",
      " 20  matches          522 non-null    object \n",
      " 21  team             522 non-null    object \n",
      "dtypes: float64(17), object(5)\n",
      "memory usage: 89.8+ KB\n"
     ]
    }
   ],
   "source": [
    "goal_shot_creation.info()"
   ]
  },
  {
   "cell_type": "code",
   "execution_count": 26,
   "metadata": {},
   "outputs": [],
   "source": [
    "goal_shot_creation.iloc[:,5:] = goal_shot_creation.iloc[:,5:].fillna(0)"
   ]
  },
  {
   "cell_type": "code",
   "execution_count": 27,
   "metadata": {},
   "outputs": [],
   "source": [
    "defensive_action = pd.read_csv(cwd + '\\\\raw_data\\AllPlayersTable7.csv')"
   ]
  },
  {
   "cell_type": "code",
   "execution_count": 28,
   "metadata": {},
   "outputs": [
    {
     "name": "stdout",
     "output_type": "stream",
     "text": [
      "<class 'pandas.core.frame.DataFrame'>\n",
      "RangeIndex: 522 entries, 0 to 521\n",
      "Data columns (total 30 columns):\n",
      " #   Column                 Non-Null Count  Dtype  \n",
      "---  ------                 --------------  -----  \n",
      " 0   player                 522 non-null    object \n",
      " 1   nationality            522 non-null    object \n",
      " 2   position               522 non-null    object \n",
      " 3   age                    520 non-null    float64\n",
      " 4   minutes_90s            522 non-null    float64\n",
      " 5   tackles                521 non-null    float64\n",
      " 6   tackles_won            522 non-null    int64  \n",
      " 7   tackles_def_3rd        521 non-null    float64\n",
      " 8   tackles_mid_3rd        521 non-null    float64\n",
      " 9   tackles_att_3rd        521 non-null    float64\n",
      " 10  dribble_tackles        521 non-null    float64\n",
      " 11  dribbles_vs            521 non-null    float64\n",
      " 12  dribble_tackles_pct    467 non-null    float64\n",
      " 13  dribbled_past          521 non-null    float64\n",
      " 14  pressures              521 non-null    float64\n",
      " 15  pressure_regains       521 non-null    float64\n",
      " 16  pressure_regain_pct    503 non-null    float64\n",
      " 17  pressures_def_3rd      521 non-null    float64\n",
      " 18  pressures_mid_3rd      521 non-null    float64\n",
      " 19  pressures_att_3rd      521 non-null    float64\n",
      " 20  blocks                 521 non-null    float64\n",
      " 21  blocked_shots          521 non-null    float64\n",
      " 22  blocked_shots_saves    521 non-null    float64\n",
      " 23  blocked_passes         521 non-null    float64\n",
      " 24  interceptions          522 non-null    int64  \n",
      " 25  tackles_interceptions  522 non-null    int64  \n",
      " 26  clearances             521 non-null    float64\n",
      " 27  errors                 521 non-null    float64\n",
      " 28  matches                522 non-null    object \n",
      " 29  team                   522 non-null    object \n",
      "dtypes: float64(22), int64(3), object(5)\n",
      "memory usage: 122.5+ KB\n"
     ]
    }
   ],
   "source": [
    "defensive_action.info()"
   ]
  },
  {
   "cell_type": "code",
   "execution_count": 29,
   "metadata": {},
   "outputs": [],
   "source": [
    "defensive_action.iloc[:,5:] = defensive_action.iloc[:,5:].fillna(0)"
   ]
  },
  {
   "cell_type": "code",
   "execution_count": 30,
   "metadata": {},
   "outputs": [],
   "source": [
    "possession = pd.read_csv(cwd + '\\\\raw_data\\AllPlayersTable8.csv')"
   ]
  },
  {
   "cell_type": "code",
   "execution_count": 31,
   "metadata": {},
   "outputs": [
    {
     "name": "stdout",
     "output_type": "stream",
     "text": [
      "<class 'pandas.core.frame.DataFrame'>\n",
      "RangeIndex: 522 entries, 0 to 521\n",
      "Data columns (total 27 columns):\n",
      " #   Column                      Non-Null Count  Dtype  \n",
      "---  ------                      --------------  -----  \n",
      " 0   player                      522 non-null    object \n",
      " 1   nationality                 522 non-null    object \n",
      " 2   position                    522 non-null    object \n",
      " 3   age                         520 non-null    float64\n",
      " 4   minutes_90s                 522 non-null    float64\n",
      " 5   touches                     521 non-null    float64\n",
      " 6   touches_def_pen_area        521 non-null    float64\n",
      " 7   touches_def_3rd             521 non-null    float64\n",
      " 8   touches_mid_3rd             521 non-null    float64\n",
      " 9   touches_att_3rd             521 non-null    float64\n",
      " 10  touches_att_pen_area        521 non-null    float64\n",
      " 11  touches_live_ball           521 non-null    float64\n",
      " 12  dribbles_completed          521 non-null    float64\n",
      " 13  dribbles                    521 non-null    float64\n",
      " 14  dribbles_completed_pct      457 non-null    float64\n",
      " 15  players_dribbled_past       521 non-null    float64\n",
      " 16  nutmegs                     521 non-null    float64\n",
      " 17  carries                     521 non-null    float64\n",
      " 18  carry_distance              521 non-null    float64\n",
      " 19  carry_progressive_distance  521 non-null    float64\n",
      " 20  pass_targets                521 non-null    float64\n",
      " 21  passes_received             521 non-null    float64\n",
      " 22  passes_received_pct         520 non-null    float64\n",
      " 23  miscontrols                 521 non-null    float64\n",
      " 24  dispossessed                521 non-null    float64\n",
      " 25  matches                     522 non-null    object \n",
      " 26  team                        522 non-null    object \n",
      "dtypes: float64(22), object(5)\n",
      "memory usage: 110.2+ KB\n"
     ]
    }
   ],
   "source": [
    "possession.info()"
   ]
  },
  {
   "cell_type": "code",
   "execution_count": 32,
   "metadata": {},
   "outputs": [],
   "source": [
    "possession.iloc[:,5:] = possession.iloc[:,5:].fillna(0)"
   ]
  },
  {
   "cell_type": "code",
   "execution_count": 33,
   "metadata": {},
   "outputs": [],
   "source": [
    "play_time = pd.read_csv(cwd + '\\\\raw_data\\AllPlayersTable9.csv')"
   ]
  },
  {
   "cell_type": "code",
   "execution_count": 34,
   "metadata": {},
   "outputs": [
    {
     "name": "stdout",
     "output_type": "stream",
     "text": [
      "<class 'pandas.core.frame.DataFrame'>\n",
      "RangeIndex: 621 entries, 0 to 620\n",
      "Data columns (total 27 columns):\n",
      " #   Column               Non-Null Count  Dtype  \n",
      "---  ------               --------------  -----  \n",
      " 0   player               621 non-null    object \n",
      " 1   nationality          619 non-null    object \n",
      " 2   position             621 non-null    object \n",
      " 3   age                  614 non-null    float64\n",
      " 4   games                621 non-null    int64  \n",
      " 5   minutes              522 non-null    object \n",
      " 6   minutes_per_game     522 non-null    float64\n",
      " 7   minutes_pct          522 non-null    float64\n",
      " 8   minutes_90s          522 non-null    float64\n",
      " 9   games_starts         621 non-null    int64  \n",
      " 10  minutes_per_start    476 non-null    float64\n",
      " 11  games_subs           621 non-null    int64  \n",
      " 12  minutes_per_sub      422 non-null    float64\n",
      " 13  unused_subs          621 non-null    int64  \n",
      " 14  points_per_match     522 non-null    float64\n",
      " 15  on_goals_for         522 non-null    float64\n",
      " 16  on_goals_against     522 non-null    float64\n",
      " 17  plus_minus           522 non-null    float64\n",
      " 18  plus_minus_per90     522 non-null    float64\n",
      " 19  plus_minus_wowy      507 non-null    float64\n",
      " 20  on_xg_for            521 non-null    float64\n",
      " 21  on_xg_against        521 non-null    float64\n",
      " 22  xg_plus_minus        521 non-null    float64\n",
      " 23  xg_plus_minus_per90  521 non-null    float64\n",
      " 24  xg_plus_minus_wowy   506 non-null    float64\n",
      " 25  matches              621 non-null    object \n",
      " 26  team                 621 non-null    object \n",
      "dtypes: float64(17), int64(4), object(6)\n",
      "memory usage: 131.1+ KB\n"
     ]
    }
   ],
   "source": [
    "play_time.info()"
   ]
  },
  {
   "cell_type": "code",
   "execution_count": 35,
   "metadata": {},
   "outputs": [],
   "source": [
    "play_time.iloc[:,4:] = play_time.iloc[:,4:].fillna(0)"
   ]
  },
  {
   "cell_type": "code",
   "execution_count": 36,
   "metadata": {},
   "outputs": [],
   "source": [
    "misc = pd.read_csv(cwd + '\\\\raw_data\\AllPlayersTable10.csv')"
   ]
  },
  {
   "cell_type": "code",
   "execution_count": 37,
   "metadata": {},
   "outputs": [
    {
     "name": "stdout",
     "output_type": "stream",
     "text": [
      "<class 'pandas.core.frame.DataFrame'>\n",
      "RangeIndex: 522 entries, 0 to 521\n",
      "Data columns (total 23 columns):\n",
      " #   Column            Non-Null Count  Dtype  \n",
      "---  ------            --------------  -----  \n",
      " 0   player            522 non-null    object \n",
      " 1   nationality       522 non-null    object \n",
      " 2   position          522 non-null    object \n",
      " 3   age               520 non-null    float64\n",
      " 4   minutes_90s       522 non-null    float64\n",
      " 5   cards_yellow      522 non-null    int64  \n",
      " 6   cards_red         522 non-null    int64  \n",
      " 7   cards_yellow_red  522 non-null    int64  \n",
      " 8   fouls             522 non-null    int64  \n",
      " 9   fouled            522 non-null    int64  \n",
      " 10  offsides          522 non-null    int64  \n",
      " 11  crosses           522 non-null    int64  \n",
      " 12  interceptions     522 non-null    int64  \n",
      " 13  tackles_won       522 non-null    int64  \n",
      " 14  pens_won          521 non-null    float64\n",
      " 15  pens_conceded     521 non-null    float64\n",
      " 16  own_goals         522 non-null    int64  \n",
      " 17  ball_recoveries   521 non-null    float64\n",
      " 18  aerials_won       521 non-null    float64\n",
      " 19  aerials_lost      521 non-null    float64\n",
      " 20  aerials_won_pct   468 non-null    float64\n",
      " 21  matches           522 non-null    object \n",
      " 22  team              522 non-null    object \n",
      "dtypes: float64(8), int64(10), object(5)\n",
      "memory usage: 93.9+ KB\n"
     ]
    }
   ],
   "source": [
    "misc.info()"
   ]
  },
  {
   "cell_type": "code",
   "execution_count": 38,
   "metadata": {},
   "outputs": [],
   "source": [
    "misc.iloc[:,5:] = misc.iloc[:,5:].fillna(0)"
   ]
  },
  {
   "cell_type": "code",
   "execution_count": 39,
   "metadata": {},
   "outputs": [],
   "source": [
    "list_var = [misc,\n",
    "            play_time,\n",
    "            possession,\n",
    "            defensive_action,\n",
    "            goal_shot_creation,\n",
    "            goalkeeping,\n",
    "            pass_types,\n",
    "            passing,\n",
    "            standard_stats,\n",
    "            advanced_goalkeeping]"
   ]
  },
  {
   "cell_type": "code",
   "execution_count": 40,
   "metadata": {},
   "outputs": [],
   "source": [
    "for var in list_var:\n",
    "    var['Pos1'] = var['position'].apply(lambda x: x.split(',')[0] if len(x.split(',')) == 2 else x)\n",
    "    var['Pos2'] = var['position'].apply(lambda x: x.split(',')[1] if len(x.split(',')) == 2 else np.nan)\n",
    "    var.drop(['matches','position'],axis=1,inplace=True)\n",
    "    #var['Nation'] = var['Nation'].fillna('')\n",
    "    #var['Nation'] = var['Nation'].apply(lambda x: x if x == '' else x.split(' ')[1])"
   ]
  },
  {
   "cell_type": "code",
   "execution_count": 41,
   "metadata": {},
   "outputs": [],
   "source": [
    "if os.path.isdir('processed_data'):\n",
    "    shutil.rmtree('processed_data')\n",
    "    \n",
    "os.makedirs('processed_data')    \n",
    "os.chdir('processed_data')"
   ]
  },
  {
   "cell_type": "code",
   "execution_count": 42,
   "metadata": {},
   "outputs": [],
   "source": [
    "misc.to_csv('Misc_Table.csv',index=False)\n",
    "play_time.to_csv('Play_Time_Table.csv',index=False)\n",
    "possession.to_csv('Possession_Table.csv',index=False)\n",
    "defensive_action.to_csv('Defensive_Action_Table.csv',index=False)\n",
    "goal_shot_creation.to_csv('Goal_Shot_Creation_Table.csv',index=False)\n",
    "goalkeeping.to_csv('Goalkeeping_Table.csv',index=False)\n",
    "pass_types.to_csv('Pass_Types_Table.csv',index=False)\n",
    "passing.to_csv('Passing_Table.csv',index=False)\n",
    "standard_stats.to_csv('Standard_Stats_Table.csv',index=False)\n",
    "advanced_goalkeeping.to_csv('Advanced_Goalkeeping_Table.csv',index=False)"
   ]
  },
  {
   "cell_type": "code",
   "execution_count": 43,
   "metadata": {},
   "outputs": [],
   "source": [
    "os.chdir(cwd)"
   ]
  },
  {
   "cell_type": "code",
   "execution_count": null,
   "metadata": {},
   "outputs": [],
   "source": []
  }
 ],
 "metadata": {
  "kernelspec": {
   "display_name": "Python 3",
   "language": "python",
   "name": "python3"
  },
  "language_info": {
   "codemirror_mode": {
    "name": "ipython",
    "version": 3
   },
   "file_extension": ".py",
   "mimetype": "text/x-python",
   "name": "python",
   "nbconvert_exporter": "python",
   "pygments_lexer": "ipython3",
   "version": "3.8.3"
  }
 },
 "nbformat": 4,
 "nbformat_minor": 4
}
