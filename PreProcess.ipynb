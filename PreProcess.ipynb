{
 "cells": [
  {
   "cell_type": "code",
   "execution_count": 10,
   "metadata": {},
   "outputs": [],
   "source": [
    "import pandas as pd\n",
    "import numpy as np\n",
    "import seaborn as sns\n",
    "import matplotlib.pyplot as plt\n",
    "import os\n",
    "import shutil"
   ]
  },
  {
   "cell_type": "code",
   "execution_count": 11,
   "metadata": {},
   "outputs": [],
   "source": [
    "cwd = os.getcwd()"
   ]
  },
  {
   "cell_type": "code",
   "execution_count": 12,
   "metadata": {},
   "outputs": [
    {
     "data": {
      "text/plain": [
       "'C:\\\\Users\\\\krunc\\\\Desktop\\\\Python Notebooks\\\\Premier-League-Scraper-2020'"
      ]
     },
     "execution_count": 12,
     "metadata": {},
     "output_type": "execute_result"
    }
   ],
   "source": [
    "cwd"
   ]
  },
  {
   "cell_type": "code",
   "execution_count": 13,
   "metadata": {},
   "outputs": [],
   "source": [
    "standard_stats = pd.read_csv(cwd + '\\\\raw_data\\AllPlayersTable0.csv')"
   ]
  },
  {
   "cell_type": "code",
   "execution_count": 14,
   "metadata": {},
   "outputs": [
    {
     "name": "stdout",
     "output_type": "stream",
     "text": [
      "<class 'pandas.core.frame.DataFrame'>\n",
      "RangeIndex: 288 entries, 0 to 287\n",
      "Data columns (total 28 columns):\n",
      " #   Column                    Non-Null Count  Dtype  \n",
      "---  ------                    --------------  -----  \n",
      " 0   player                    288 non-null    object \n",
      " 1   nationality               288 non-null    object \n",
      " 2   position                  288 non-null    object \n",
      " 3   age                       287 non-null    float64\n",
      " 4   games                     288 non-null    int64  \n",
      " 5   games_starts              288 non-null    int64  \n",
      " 6   minutes                   221 non-null    float64\n",
      " 7   goals                     221 non-null    float64\n",
      " 8   assists                   221 non-null    float64\n",
      " 9   pens_made                 221 non-null    float64\n",
      " 10  pens_att                  221 non-null    float64\n",
      " 11  cards_yellow              221 non-null    float64\n",
      " 12  cards_red                 221 non-null    float64\n",
      " 13  goals_per90               221 non-null    float64\n",
      " 14  assists_per90             221 non-null    float64\n",
      " 15  goals_assists_per90       221 non-null    float64\n",
      " 16  goals_pens_per90          221 non-null    float64\n",
      " 17  goals_assists_pens_per90  221 non-null    float64\n",
      " 18  xg                        193 non-null    float64\n",
      " 19  npxg                      193 non-null    float64\n",
      " 20  xa                        193 non-null    float64\n",
      " 21  xg_per90                  193 non-null    float64\n",
      " 22  xa_per90                  193 non-null    float64\n",
      " 23  xg_xa_per90               193 non-null    float64\n",
      " 24  npxg_per90                193 non-null    float64\n",
      " 25  npxg_xa_per90             193 non-null    float64\n",
      " 26  matches                   288 non-null    object \n",
      " 27  team                      288 non-null    object \n",
      "dtypes: float64(21), int64(2), object(5)\n",
      "memory usage: 63.1+ KB\n"
     ]
    }
   ],
   "source": [
    "standard_stats.info()"
   ]
  },
  {
   "cell_type": "code",
   "execution_count": 15,
   "metadata": {},
   "outputs": [],
   "source": [
    "#standard_stats = standard_stats.iloc[:,:12].copy()"
   ]
  },
  {
   "cell_type": "code",
   "execution_count": 16,
   "metadata": {},
   "outputs": [],
   "source": [
    "standard_stats.iloc[:,4:] = standard_stats.iloc[:,4:].fillna(0)"
   ]
  },
  {
   "cell_type": "code",
   "execution_count": 17,
   "metadata": {},
   "outputs": [
    {
     "name": "stdout",
     "output_type": "stream",
     "text": [
      "<class 'pandas.core.frame.DataFrame'>\n",
      "RangeIndex: 288 entries, 0 to 287\n",
      "Data columns (total 28 columns):\n",
      " #   Column                    Non-Null Count  Dtype  \n",
      "---  ------                    --------------  -----  \n",
      " 0   player                    288 non-null    object \n",
      " 1   nationality               288 non-null    object \n",
      " 2   position                  288 non-null    object \n",
      " 3   age                       287 non-null    float64\n",
      " 4   games                     288 non-null    int64  \n",
      " 5   games_starts              288 non-null    int64  \n",
      " 6   minutes                   288 non-null    float64\n",
      " 7   goals                     288 non-null    float64\n",
      " 8   assists                   288 non-null    float64\n",
      " 9   pens_made                 288 non-null    float64\n",
      " 10  pens_att                  288 non-null    float64\n",
      " 11  cards_yellow              288 non-null    float64\n",
      " 12  cards_red                 288 non-null    float64\n",
      " 13  goals_per90               288 non-null    float64\n",
      " 14  assists_per90             288 non-null    float64\n",
      " 15  goals_assists_per90       288 non-null    float64\n",
      " 16  goals_pens_per90          288 non-null    float64\n",
      " 17  goals_assists_pens_per90  288 non-null    float64\n",
      " 18  xg                        288 non-null    float64\n",
      " 19  npxg                      288 non-null    float64\n",
      " 20  xa                        288 non-null    float64\n",
      " 21  xg_per90                  288 non-null    float64\n",
      " 22  xa_per90                  288 non-null    float64\n",
      " 23  xg_xa_per90               288 non-null    float64\n",
      " 24  npxg_per90                288 non-null    float64\n",
      " 25  npxg_xa_per90             288 non-null    float64\n",
      " 26  matches                   288 non-null    object \n",
      " 27  team                      288 non-null    object \n",
      "dtypes: float64(21), int64(2), object(5)\n",
      "memory usage: 63.1+ KB\n"
     ]
    }
   ],
   "source": [
    "standard_stats.info()"
   ]
  },
  {
   "cell_type": "code",
   "execution_count": 18,
   "metadata": {},
   "outputs": [],
   "source": [
    "goalkeeping = pd.read_csv(cwd + '\\\\raw_data\\AllPlayersTable1.csv')"
   ]
  },
  {
   "cell_type": "code",
   "execution_count": 19,
   "metadata": {},
   "outputs": [],
   "source": [
    "goalkeeping.iloc[:,4:] = goalkeeping.iloc[:,4:].fillna(0)"
   ]
  },
  {
   "cell_type": "code",
   "execution_count": 20,
   "metadata": {},
   "outputs": [
    {
     "name": "stdout",
     "output_type": "stream",
     "text": [
      "<class 'pandas.core.frame.DataFrame'>\n",
      "RangeIndex: 16 entries, 0 to 15\n",
      "Data columns (total 23 columns):\n",
      " #   Column                   Non-Null Count  Dtype  \n",
      "---  ------                   --------------  -----  \n",
      " 0   player                   16 non-null     object \n",
      " 1   nationality              16 non-null     object \n",
      " 2   position                 16 non-null     object \n",
      " 3   age                      16 non-null     int64  \n",
      " 4   games_gk                 16 non-null     int64  \n",
      " 5   games_starts_gk          16 non-null     int64  \n",
      " 6   minutes_gk               16 non-null     int64  \n",
      " 7   goals_against_gk         16 non-null     int64  \n",
      " 8   goals_against_per90_gk   16 non-null     float64\n",
      " 9   shots_on_target_against  16 non-null     int64  \n",
      " 10  saves                    16 non-null     int64  \n",
      " 11  save_pct                 16 non-null     float64\n",
      " 12  wins_gk                  16 non-null     int64  \n",
      " 13  draws_gk                 16 non-null     int64  \n",
      " 14  losses_gk                16 non-null     int64  \n",
      " 15  clean_sheets             16 non-null     int64  \n",
      " 16  clean_sheets_pct         16 non-null     float64\n",
      " 17  pens_att_gk              16 non-null     int64  \n",
      " 18  pens_allowed             16 non-null     int64  \n",
      " 19  pens_saved               16 non-null     int64  \n",
      " 20  pens_missed_gk           16 non-null     int64  \n",
      " 21  matches                  16 non-null     object \n",
      " 22  team                     16 non-null     object \n",
      "dtypes: float64(3), int64(15), object(5)\n",
      "memory usage: 3.0+ KB\n"
     ]
    }
   ],
   "source": [
    "goalkeeping.info()"
   ]
  },
  {
   "cell_type": "code",
   "execution_count": 21,
   "metadata": {},
   "outputs": [],
   "source": [
    "advanced_goalkeeping = pd.read_csv(cwd + '\\\\raw_data\\AllPlayersTable2.csv')"
   ]
  },
  {
   "cell_type": "code",
   "execution_count": 22,
   "metadata": {},
   "outputs": [],
   "source": [
    "advanced_goalkeeping.iloc[:,5:] = advanced_goalkeeping.iloc[:,5:].fillna(0)"
   ]
  },
  {
   "cell_type": "code",
   "execution_count": 23,
   "metadata": {},
   "outputs": [
    {
     "name": "stdout",
     "output_type": "stream",
     "text": [
      "<class 'pandas.core.frame.DataFrame'>\n",
      "RangeIndex: 16 entries, 0 to 15\n",
      "Data columns (total 32 columns):\n",
      " #   Column                                 Non-Null Count  Dtype  \n",
      "---  ------                                 --------------  -----  \n",
      " 0   player                                 16 non-null     object \n",
      " 1   nationality                            16 non-null     object \n",
      " 2   position                               16 non-null     object \n",
      " 3   age                                    16 non-null     int64  \n",
      " 4   minutes_90s_gk                         16 non-null     float64\n",
      " 5   goals_against_gk                       16 non-null     int64  \n",
      " 6   pens_allowed                           16 non-null     int64  \n",
      " 7   free_kick_goals_against_gk             16 non-null     float64\n",
      " 8   corner_kick_goals_against_gk           16 non-null     float64\n",
      " 9   own_goals_against_gk                   16 non-null     float64\n",
      " 10  psxg_gk                                16 non-null     float64\n",
      " 11  psnpxg_per_shot_on_target_against      16 non-null     float64\n",
      " 12  psxg_net_gk                            16 non-null     float64\n",
      " 13  psxg_net_per90_gk                      16 non-null     float64\n",
      " 14  passes_completed_launched_gk           16 non-null     float64\n",
      " 15  passes_launched_gk                     16 non-null     float64\n",
      " 16  passes_pct_launched_gk                 16 non-null     float64\n",
      " 17  passes_gk                              16 non-null     float64\n",
      " 18  passes_throws_gk                       16 non-null     float64\n",
      " 19  pct_passes_launched_gk                 16 non-null     float64\n",
      " 20  passes_length_avg_gk                   16 non-null     float64\n",
      " 21  goal_kicks                             16 non-null     float64\n",
      " 22  pct_goal_kicks_launched                16 non-null     float64\n",
      " 23  goal_kick_length_avg                   16 non-null     float64\n",
      " 24  crosses_gk                             16 non-null     float64\n",
      " 25  crosses_stopped_gk                     16 non-null     float64\n",
      " 26  crosses_stopped_pct_gk                 16 non-null     float64\n",
      " 27  def_actions_outside_pen_area_gk        16 non-null     float64\n",
      " 28  def_actions_outside_pen_area_per90_gk  16 non-null     float64\n",
      " 29  avg_distance_def_actions_gk            16 non-null     float64\n",
      " 30  matches                                16 non-null     object \n",
      " 31  team                                   16 non-null     object \n",
      "dtypes: float64(24), int64(3), object(5)\n",
      "memory usage: 4.1+ KB\n"
     ]
    }
   ],
   "source": [
    "advanced_goalkeeping.info()"
   ]
  },
  {
   "cell_type": "code",
   "execution_count": 24,
   "metadata": {},
   "outputs": [],
   "source": [
    "shooting = pd.read_csv(cwd + '\\\\raw_data\\AllPlayersTable3.csv')"
   ]
  },
  {
   "cell_type": "code",
   "execution_count": 25,
   "metadata": {},
   "outputs": [
    {
     "name": "stdout",
     "output_type": "stream",
     "text": [
      "<class 'pandas.core.frame.DataFrame'>\n",
      "RangeIndex: 221 entries, 0 to 220\n",
      "Data columns (total 23 columns):\n",
      " #   Column                    Non-Null Count  Dtype  \n",
      "---  ------                    --------------  -----  \n",
      " 0   player                    221 non-null    object \n",
      " 1   nationality               221 non-null    object \n",
      " 2   position                  221 non-null    object \n",
      " 3   age                       221 non-null    int64  \n",
      " 4   minutes_90s               221 non-null    float64\n",
      " 5   goals                     221 non-null    int64  \n",
      " 6   shots_total               221 non-null    int64  \n",
      " 7   shots_on_target           221 non-null    int64  \n",
      " 8   shots_on_target_pct       97 non-null     float64\n",
      " 9   shots_total_per90         221 non-null    float64\n",
      " 10  shots_on_target_per90     221 non-null    float64\n",
      " 11  goals_per_shot            97 non-null     float64\n",
      " 12  goals_per_shot_on_target  51 non-null     float64\n",
      " 13  shots_free_kicks          193 non-null    float64\n",
      " 14  pens_made                 221 non-null    int64  \n",
      " 15  pens_att                  221 non-null    int64  \n",
      " 16  xg                        193 non-null    float64\n",
      " 17  npxg                      193 non-null    float64\n",
      " 18  npxg_per_shot             82 non-null     float64\n",
      " 19  xg_net                    193 non-null    float64\n",
      " 20  npxg_net                  193 non-null    float64\n",
      " 21  matches                   221 non-null    object \n",
      " 22  team                      221 non-null    object \n",
      "dtypes: float64(12), int64(6), object(5)\n",
      "memory usage: 39.8+ KB\n"
     ]
    }
   ],
   "source": [
    "shooting.info()"
   ]
  },
  {
   "cell_type": "code",
   "execution_count": 26,
   "metadata": {},
   "outputs": [],
   "source": [
    "shooting.iloc[:,5:] = shooting.iloc[:,5:].fillna(0)"
   ]
  },
  {
   "cell_type": "code",
   "execution_count": 27,
   "metadata": {},
   "outputs": [],
   "source": [
    "passing = pd.read_csv(cwd + '\\\\raw_data\\AllPlayersTable4.csv')"
   ]
  },
  {
   "cell_type": "code",
   "execution_count": 28,
   "metadata": {},
   "outputs": [
    {
     "name": "stdout",
     "output_type": "stream",
     "text": [
      "<class 'pandas.core.frame.DataFrame'>\n",
      "RangeIndex: 221 entries, 0 to 220\n",
      "Data columns (total 29 columns):\n",
      " #   Column                       Non-Null Count  Dtype  \n",
      "---  ------                       --------------  -----  \n",
      " 0   player                       221 non-null    object \n",
      " 1   nationality                  221 non-null    object \n",
      " 2   position                     221 non-null    object \n",
      " 3   age                          221 non-null    int64  \n",
      " 4   minutes_90s                  221 non-null    float64\n",
      " 5   passes_completed             193 non-null    float64\n",
      " 6   passes                       193 non-null    float64\n",
      " 7   passes_pct                   192 non-null    float64\n",
      " 8   passes_total_distance        193 non-null    float64\n",
      " 9   passes_progressive_distance  193 non-null    float64\n",
      " 10  passes_completed_short       193 non-null    float64\n",
      " 11  passes_short                 193 non-null    float64\n",
      " 12  passes_pct_short             133 non-null    float64\n",
      " 13  passes_completed_medium      193 non-null    float64\n",
      " 14  passes_medium                193 non-null    float64\n",
      " 15  passes_pct_medium            190 non-null    float64\n",
      " 16  passes_completed_long        193 non-null    float64\n",
      " 17  passes_long                  193 non-null    float64\n",
      " 18  passes_pct_long              177 non-null    float64\n",
      " 19  assists                      221 non-null    int64  \n",
      " 20  xa                           193 non-null    float64\n",
      " 21  xa_net                       193 non-null    float64\n",
      " 22  assisted_shots               193 non-null    float64\n",
      " 23  passes_into_final_third      193 non-null    float64\n",
      " 24  passes_into_penalty_area     193 non-null    float64\n",
      " 25  crosses_into_penalty_area    193 non-null    float64\n",
      " 26  progressive_passes           193 non-null    float64\n",
      " 27  matches                      221 non-null    object \n",
      " 28  team                         221 non-null    object \n",
      "dtypes: float64(22), int64(2), object(5)\n",
      "memory usage: 50.2+ KB\n"
     ]
    }
   ],
   "source": [
    "passing.info()"
   ]
  },
  {
   "cell_type": "code",
   "execution_count": 29,
   "metadata": {},
   "outputs": [],
   "source": [
    "passing.iloc[:,5:] = passing.iloc[:,5:].fillna(0)"
   ]
  },
  {
   "cell_type": "code",
   "execution_count": 30,
   "metadata": {},
   "outputs": [],
   "source": [
    "pass_types = pd.read_csv(cwd + '\\\\raw_data\\AllPlayersTable5.csv')"
   ]
  },
  {
   "cell_type": "code",
   "execution_count": 31,
   "metadata": {},
   "outputs": [
    {
     "name": "stdout",
     "output_type": "stream",
     "text": [
      "<class 'pandas.core.frame.DataFrame'>\n",
      "RangeIndex: 221 entries, 0 to 220\n",
      "Data columns (total 32 columns):\n",
      " #   Column                 Non-Null Count  Dtype  \n",
      "---  ------                 --------------  -----  \n",
      " 0   player                 221 non-null    object \n",
      " 1   nationality            221 non-null    object \n",
      " 2   position               221 non-null    object \n",
      " 3   age                    221 non-null    int64  \n",
      " 4   minutes_90s            221 non-null    float64\n",
      " 5   passes                 193 non-null    float64\n",
      " 6   passes_live            193 non-null    float64\n",
      " 7   passes_dead            193 non-null    float64\n",
      " 8   passes_free_kicks      193 non-null    float64\n",
      " 9   through_balls          193 non-null    float64\n",
      " 10  passes_pressure        193 non-null    float64\n",
      " 11  passes_switches        193 non-null    float64\n",
      " 12  crosses                221 non-null    int64  \n",
      " 13  corner_kicks           193 non-null    float64\n",
      " 14  corner_kicks_in        193 non-null    float64\n",
      " 15  corner_kicks_out       193 non-null    float64\n",
      " 16  corner_kicks_straight  193 non-null    float64\n",
      " 17  passes_ground          193 non-null    float64\n",
      " 18  passes_low             193 non-null    float64\n",
      " 19  passes_high            193 non-null    float64\n",
      " 20  passes_left_foot       193 non-null    float64\n",
      " 21  passes_right_foot      193 non-null    float64\n",
      " 22  passes_head            193 non-null    float64\n",
      " 23  throw_ins              193 non-null    float64\n",
      " 24  passes_other_body      193 non-null    float64\n",
      " 25  passes_completed       193 non-null    float64\n",
      " 26  passes_offsides        193 non-null    float64\n",
      " 27  passes_oob             193 non-null    float64\n",
      " 28  passes_intercepted     193 non-null    float64\n",
      " 29  passes_blocked         193 non-null    float64\n",
      " 30  matches                221 non-null    object \n",
      " 31  team                   221 non-null    object \n",
      "dtypes: float64(25), int64(2), object(5)\n",
      "memory usage: 55.4+ KB\n"
     ]
    }
   ],
   "source": [
    "pass_types.info()"
   ]
  },
  {
   "cell_type": "code",
   "execution_count": 32,
   "metadata": {},
   "outputs": [],
   "source": [
    "pass_types.iloc[:,5:] = pass_types.iloc[:,5:].fillna(0)"
   ]
  },
  {
   "cell_type": "code",
   "execution_count": 33,
   "metadata": {},
   "outputs": [],
   "source": [
    "goal_shot_creation = pd.read_csv(cwd + '\\\\raw_data\\AllPlayersTable6.csv')"
   ]
  },
  {
   "cell_type": "code",
   "execution_count": 34,
   "metadata": {},
   "outputs": [
    {
     "name": "stdout",
     "output_type": "stream",
     "text": [
      "<class 'pandas.core.frame.DataFrame'>\n",
      "RangeIndex: 221 entries, 0 to 220\n",
      "Data columns (total 22 columns):\n",
      " #   Column           Non-Null Count  Dtype  \n",
      "---  ------           --------------  -----  \n",
      " 0   player           221 non-null    object \n",
      " 1   nationality      221 non-null    object \n",
      " 2   position         221 non-null    object \n",
      " 3   age              221 non-null    int64  \n",
      " 4   minutes_90s      221 non-null    float64\n",
      " 5   sca              193 non-null    float64\n",
      " 6   sca_per90        193 non-null    float64\n",
      " 7   sca_passes_live  193 non-null    float64\n",
      " 8   sca_passes_dead  193 non-null    float64\n",
      " 9   sca_dribbles     193 non-null    float64\n",
      " 10  sca_shots        193 non-null    float64\n",
      " 11  sca_fouled       193 non-null    float64\n",
      " 12  gca              193 non-null    float64\n",
      " 13  gca_per90        193 non-null    float64\n",
      " 14  gca_passes_live  193 non-null    float64\n",
      " 15  gca_passes_dead  193 non-null    float64\n",
      " 16  gca_dribbles     193 non-null    float64\n",
      " 17  gca_shots        193 non-null    float64\n",
      " 18  gca_fouled       193 non-null    float64\n",
      " 19  gca_og_for       193 non-null    float64\n",
      " 20  matches          221 non-null    object \n",
      " 21  team             221 non-null    object \n",
      "dtypes: float64(16), int64(1), object(5)\n",
      "memory usage: 38.1+ KB\n"
     ]
    }
   ],
   "source": [
    "goal_shot_creation.info()"
   ]
  },
  {
   "cell_type": "code",
   "execution_count": 35,
   "metadata": {},
   "outputs": [],
   "source": [
    "goal_shot_creation.iloc[:,5:] = goal_shot_creation.iloc[:,5:].fillna(0)"
   ]
  },
  {
   "cell_type": "code",
   "execution_count": 36,
   "metadata": {},
   "outputs": [],
   "source": [
    "defensive_action = pd.read_csv(cwd + '\\\\raw_data\\AllPlayersTable7.csv')"
   ]
  },
  {
   "cell_type": "code",
   "execution_count": 37,
   "metadata": {},
   "outputs": [
    {
     "name": "stdout",
     "output_type": "stream",
     "text": [
      "<class 'pandas.core.frame.DataFrame'>\n",
      "RangeIndex: 221 entries, 0 to 220\n",
      "Data columns (total 30 columns):\n",
      " #   Column                 Non-Null Count  Dtype  \n",
      "---  ------                 --------------  -----  \n",
      " 0   player                 221 non-null    object \n",
      " 1   nationality            221 non-null    object \n",
      " 2   position               221 non-null    object \n",
      " 3   age                    221 non-null    int64  \n",
      " 4   minutes_90s            221 non-null    float64\n",
      " 5   tackles                193 non-null    float64\n",
      " 6   tackles_won            221 non-null    int64  \n",
      " 7   tackles_def_3rd        193 non-null    float64\n",
      " 8   tackles_mid_3rd        193 non-null    float64\n",
      " 9   tackles_att_3rd        193 non-null    float64\n",
      " 10  dribble_tackles        193 non-null    float64\n",
      " 11  dribbles_vs            193 non-null    float64\n",
      " 12  dribble_tackles_pct    123 non-null    float64\n",
      " 13  dribbled_past          193 non-null    float64\n",
      " 14  pressures              193 non-null    float64\n",
      " 15  pressure_regains       193 non-null    float64\n",
      " 16  pressure_regain_pct    181 non-null    float64\n",
      " 17  pressures_def_3rd      193 non-null    float64\n",
      " 18  pressures_mid_3rd      193 non-null    float64\n",
      " 19  pressures_att_3rd      193 non-null    float64\n",
      " 20  blocks                 193 non-null    float64\n",
      " 21  blocked_shots          193 non-null    float64\n",
      " 22  blocked_shots_saves    193 non-null    float64\n",
      " 23  blocked_passes         193 non-null    float64\n",
      " 24  interceptions          221 non-null    int64  \n",
      " 25  tackles_interceptions  221 non-null    int64  \n",
      " 26  clearances             193 non-null    float64\n",
      " 27  errors                 193 non-null    float64\n",
      " 28  matches                221 non-null    object \n",
      " 29  team                   221 non-null    object \n",
      "dtypes: float64(21), int64(4), object(5)\n",
      "memory usage: 51.9+ KB\n"
     ]
    }
   ],
   "source": [
    "defensive_action.info()"
   ]
  },
  {
   "cell_type": "code",
   "execution_count": 38,
   "metadata": {},
   "outputs": [],
   "source": [
    "defensive_action.iloc[:,5:] = defensive_action.iloc[:,5:].fillna(0)"
   ]
  },
  {
   "cell_type": "code",
   "execution_count": 39,
   "metadata": {},
   "outputs": [],
   "source": [
    "possession = pd.read_csv(cwd + '\\\\raw_data\\AllPlayersTable8.csv')"
   ]
  },
  {
   "cell_type": "code",
   "execution_count": 40,
   "metadata": {},
   "outputs": [
    {
     "name": "stdout",
     "output_type": "stream",
     "text": [
      "<class 'pandas.core.frame.DataFrame'>\n",
      "RangeIndex: 221 entries, 0 to 220\n",
      "Data columns (total 27 columns):\n",
      " #   Column                      Non-Null Count  Dtype  \n",
      "---  ------                      --------------  -----  \n",
      " 0   player                      221 non-null    object \n",
      " 1   nationality                 221 non-null    object \n",
      " 2   position                    221 non-null    object \n",
      " 3   age                         221 non-null    int64  \n",
      " 4   minutes_90s                 221 non-null    float64\n",
      " 5   touches                     193 non-null    float64\n",
      " 6   touches_def_pen_area        193 non-null    float64\n",
      " 7   touches_def_3rd             193 non-null    float64\n",
      " 8   touches_mid_3rd             193 non-null    float64\n",
      " 9   touches_att_3rd             193 non-null    float64\n",
      " 10  touches_att_pen_area        193 non-null    float64\n",
      " 11  touches_live_ball           193 non-null    float64\n",
      " 12  dribbles_completed          193 non-null    float64\n",
      " 13  dribbles                    193 non-null    float64\n",
      " 14  dribbles_completed_pct      92 non-null     float64\n",
      " 15  players_dribbled_past       193 non-null    float64\n",
      " 16  nutmegs                     193 non-null    float64\n",
      " 17  carries                     193 non-null    float64\n",
      " 18  carry_distance              193 non-null    float64\n",
      " 19  carry_progressive_distance  193 non-null    float64\n",
      " 20  pass_targets                193 non-null    float64\n",
      " 21  passes_received             193 non-null    float64\n",
      " 22  passes_received_pct         192 non-null    float64\n",
      " 23  miscontrols                 193 non-null    float64\n",
      " 24  dispossessed                193 non-null    float64\n",
      " 25  matches                     221 non-null    object \n",
      " 26  team                        221 non-null    object \n",
      "dtypes: float64(21), int64(1), object(5)\n",
      "memory usage: 46.7+ KB\n"
     ]
    }
   ],
   "source": [
    "possession.info()"
   ]
  },
  {
   "cell_type": "code",
   "execution_count": 41,
   "metadata": {},
   "outputs": [],
   "source": [
    "possession.iloc[:,5:] = possession.iloc[:,5:].fillna(0)"
   ]
  },
  {
   "cell_type": "code",
   "execution_count": 42,
   "metadata": {},
   "outputs": [],
   "source": [
    "play_time = pd.read_csv(cwd + '\\\\raw_data\\AllPlayersTable9.csv')"
   ]
  },
  {
   "cell_type": "code",
   "execution_count": 43,
   "metadata": {},
   "outputs": [
    {
     "name": "stdout",
     "output_type": "stream",
     "text": [
      "<class 'pandas.core.frame.DataFrame'>\n",
      "RangeIndex: 288 entries, 0 to 287\n",
      "Data columns (total 27 columns):\n",
      " #   Column               Non-Null Count  Dtype  \n",
      "---  ------               --------------  -----  \n",
      " 0   player               288 non-null    object \n",
      " 1   nationality          288 non-null    object \n",
      " 2   position             288 non-null    object \n",
      " 3   age                  287 non-null    float64\n",
      " 4   games                288 non-null    int64  \n",
      " 5   minutes              221 non-null    float64\n",
      " 6   minutes_per_game     221 non-null    float64\n",
      " 7   minutes_pct          221 non-null    float64\n",
      " 8   minutes_90s          221 non-null    float64\n",
      " 9   games_starts         288 non-null    int64  \n",
      " 10  minutes_per_start    176 non-null    float64\n",
      " 11  games_subs           288 non-null    int64  \n",
      " 12  minutes_per_sub      45 non-null     float64\n",
      " 13  unused_subs          288 non-null    int64  \n",
      " 14  points_per_match     221 non-null    float64\n",
      " 15  on_goals_for         221 non-null    float64\n",
      " 16  on_goals_against     221 non-null    float64\n",
      " 17  plus_minus           221 non-null    float64\n",
      " 18  plus_minus_per90     221 non-null    float64\n",
      " 19  plus_minus_wowy      90 non-null     float64\n",
      " 20  on_xg_for            193 non-null    float64\n",
      " 21  on_xg_against        193 non-null    float64\n",
      " 22  xg_plus_minus        193 non-null    float64\n",
      " 23  xg_plus_minus_per90  193 non-null    float64\n",
      " 24  xg_plus_minus_wowy   78 non-null     float64\n",
      " 25  matches              288 non-null    object \n",
      " 26  team                 288 non-null    object \n",
      "dtypes: float64(18), int64(4), object(5)\n",
      "memory usage: 60.9+ KB\n"
     ]
    }
   ],
   "source": [
    "play_time.info()"
   ]
  },
  {
   "cell_type": "code",
   "execution_count": 44,
   "metadata": {},
   "outputs": [],
   "source": [
    "play_time.iloc[:,4:] = play_time.iloc[:,4:].fillna(0)"
   ]
  },
  {
   "cell_type": "code",
   "execution_count": 45,
   "metadata": {},
   "outputs": [],
   "source": [
    "misc = pd.read_csv(cwd + '\\\\raw_data\\AllPlayersTable10.csv')"
   ]
  },
  {
   "cell_type": "code",
   "execution_count": 46,
   "metadata": {},
   "outputs": [
    {
     "name": "stdout",
     "output_type": "stream",
     "text": [
      "<class 'pandas.core.frame.DataFrame'>\n",
      "RangeIndex: 221 entries, 0 to 220\n",
      "Data columns (total 23 columns):\n",
      " #   Column            Non-Null Count  Dtype  \n",
      "---  ------            --------------  -----  \n",
      " 0   player            221 non-null    object \n",
      " 1   nationality       221 non-null    object \n",
      " 2   position          221 non-null    object \n",
      " 3   age               221 non-null    int64  \n",
      " 4   minutes_90s       221 non-null    float64\n",
      " 5   cards_yellow      221 non-null    int64  \n",
      " 6   cards_red         221 non-null    int64  \n",
      " 7   cards_yellow_red  221 non-null    int64  \n",
      " 8   fouls             221 non-null    int64  \n",
      " 9   fouled            221 non-null    int64  \n",
      " 10  offsides          221 non-null    int64  \n",
      " 11  crosses           221 non-null    int64  \n",
      " 12  interceptions     221 non-null    int64  \n",
      " 13  tackles_won       221 non-null    int64  \n",
      " 14  pens_won          166 non-null    float64\n",
      " 15  pens_conceded     166 non-null    float64\n",
      " 16  own_goals         221 non-null    int64  \n",
      " 17  ball_recoveries   193 non-null    float64\n",
      " 18  aerials_won       193 non-null    float64\n",
      " 19  aerials_lost      193 non-null    float64\n",
      " 20  aerials_won_pct   140 non-null    float64\n",
      " 21  matches           221 non-null    object \n",
      " 22  team              221 non-null    object \n",
      "dtypes: float64(7), int64(11), object(5)\n",
      "memory usage: 39.8+ KB\n"
     ]
    }
   ],
   "source": [
    "misc.info()"
   ]
  },
  {
   "cell_type": "code",
   "execution_count": 47,
   "metadata": {},
   "outputs": [],
   "source": [
    "misc.iloc[:,5:] = misc.iloc[:,5:].fillna(0)"
   ]
  },
  {
   "cell_type": "code",
   "execution_count": 48,
   "metadata": {},
   "outputs": [],
   "source": [
    "list_var = [misc,\n",
    "            play_time,\n",
    "            possession,\n",
    "            defensive_action,\n",
    "            goal_shot_creation,\n",
    "            goalkeeping,\n",
    "            pass_types,\n",
    "            passing,\n",
    "            standard_stats,\n",
    "            advanced_goalkeeping]"
   ]
  },
  {
   "cell_type": "code",
   "execution_count": 49,
   "metadata": {},
   "outputs": [],
   "source": [
    "for var in list_var:\n",
    "    var['Pos1'] = var['position'].apply(lambda x: x.split(',')[0] if len(x.split(',')) == 2 else x)\n",
    "    var['Pos2'] = var['position'].apply(lambda x: x.split(',')[1] if len(x.split(',')) == 2 else np.nan)\n",
    "    var.drop(['matches','position'],axis=1,inplace=True)\n",
    "    #var['Nation'] = var['Nation'].fillna('')\n",
    "    #var['Nation'] = var['Nation'].apply(lambda x: x if x == '' else x.split(' ')[1])"
   ]
  },
  {
   "cell_type": "code",
   "execution_count": 50,
   "metadata": {},
   "outputs": [],
   "source": [
    "if os.path.isdir('processed_data'):\n",
    "    shutil.rmtree('processed_data')\n",
    "    \n",
    "os.makedirs('processed_data')    \n",
    "os.chdir('processed_data')"
   ]
  },
  {
   "cell_type": "code",
   "execution_count": 51,
   "metadata": {},
   "outputs": [],
   "source": [
    "misc.to_csv('Misc_Table.csv',index=False)\n",
    "play_time.to_csv('Play_Time_Table.csv',index=False)\n",
    "possession.to_csv('Possession_Table.csv',index=False)\n",
    "defensive_action.to_csv('Defensive_Action_Table.csv',index=False)\n",
    "goal_shot_creation.to_csv('Goal_Shot_Creation_Table.csv',index=False)\n",
    "goalkeeping.to_csv('Goalkeeping_Table.csv',index=False)\n",
    "pass_types.to_csv('Pass_Types_Table.csv',index=False)\n",
    "passing.to_csv('Passing_Table.csv',index=False)\n",
    "standard_stats.to_csv('Standard_Stats_Table.csv',index=False)\n",
    "advanced_goalkeeping.to_csv('Advanced_Goalkeeping_Table.csv',index=False)"
   ]
  },
  {
   "cell_type": "code",
   "execution_count": 52,
   "metadata": {},
   "outputs": [],
   "source": [
    "os.chdir(cwd)"
   ]
  },
  {
   "cell_type": "code",
   "execution_count": null,
   "metadata": {},
   "outputs": [],
   "source": []
  }
 ],
 "metadata": {
  "kernelspec": {
   "display_name": "Python 3",
   "language": "python",
   "name": "python3"
  },
  "language_info": {
   "codemirror_mode": {
    "name": "ipython",
    "version": 3
   },
   "file_extension": ".py",
   "mimetype": "text/x-python",
   "name": "python",
   "nbconvert_exporter": "python",
   "pygments_lexer": "ipython3",
   "version": "3.8.3"
  }
 },
 "nbformat": 4,
 "nbformat_minor": 4
}
