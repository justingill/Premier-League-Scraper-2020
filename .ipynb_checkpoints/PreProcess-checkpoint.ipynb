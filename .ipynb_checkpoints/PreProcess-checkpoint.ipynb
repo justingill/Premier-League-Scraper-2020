{
 "cells": [
  {
   "cell_type": "code",
   "execution_count": 1,
   "metadata": {},
   "outputs": [],
   "source": [
    "import pandas as pd\n",
    "import numpy as np\n",
    "import seaborn as sns\n",
    "import matplotlib.pyplot as plt\n",
    "import os"
   ]
  },
  {
   "cell_type": "code",
   "execution_count": 2,
   "metadata": {},
   "outputs": [],
   "source": [
    "cwd = os.getcwd()"
   ]
  },
  {
   "cell_type": "code",
   "execution_count": 3,
   "metadata": {},
   "outputs": [
    {
     "data": {
      "text/plain": [
       "'C:\\\\Users\\\\krunc\\\\Desktop\\\\Python Notebooks\\\\ScraperPL'"
      ]
     },
     "execution_count": 3,
     "metadata": {},
     "output_type": "execute_result"
    }
   ],
   "source": [
    "cwd"
   ]
  },
  {
   "cell_type": "code",
   "execution_count": 4,
   "metadata": {},
   "outputs": [],
   "source": [
    "standard_stats = pd.read_csv(cwd + '\\\\raw_data\\AllPlayersTable0.csv')"
   ]
  },
  {
   "cell_type": "code",
   "execution_count": 5,
   "metadata": {},
   "outputs": [
    {
     "name": "stdout",
     "output_type": "stream",
     "text": [
      "<class 'pandas.core.frame.DataFrame'>\n",
      "RangeIndex: 621 entries, 0 to 620\n",
      "Data columns (total 28 columns):\n",
      " #   Column   Non-Null Count  Dtype  \n",
      "---  ------   --------------  -----  \n",
      " 0   Player   621 non-null    object \n",
      " 1   Nation   619 non-null    object \n",
      " 2   Pos      621 non-null    object \n",
      " 3   Age      614 non-null    float64\n",
      " 4   MP       621 non-null    int64  \n",
      " 5   Starts   621 non-null    int64  \n",
      " 6   Min      522 non-null    object \n",
      " 7   Gls      522 non-null    float64\n",
      " 8   Ast      522 non-null    float64\n",
      " 9   PK       522 non-null    float64\n",
      " 10  PKatt    522 non-null    float64\n",
      " 11  CrdY     522 non-null    float64\n",
      " 12  CrdR     522 non-null    float64\n",
      " 13  Gls.1    522 non-null    float64\n",
      " 14  Ast.1    522 non-null    float64\n",
      " 15  G+A      522 non-null    float64\n",
      " 16  G-PK     522 non-null    float64\n",
      " 17  G+A-PK   522 non-null    float64\n",
      " 18  xG       521 non-null    float64\n",
      " 19  npxG     521 non-null    float64\n",
      " 20  xA       521 non-null    float64\n",
      " 21  xG.1     521 non-null    float64\n",
      " 22  xA.1     521 non-null    float64\n",
      " 23  xG+xA    521 non-null    float64\n",
      " 24  npxG.1   521 non-null    float64\n",
      " 25  npxG+xA  521 non-null    float64\n",
      " 26  Matches  621 non-null    object \n",
      " 27  Team     621 non-null    object \n",
      "dtypes: float64(20), int64(2), object(6)\n",
      "memory usage: 136.0+ KB\n"
     ]
    }
   ],
   "source": [
    "standard_stats.info()"
   ]
  },
  {
   "cell_type": "code",
   "execution_count": null,
   "metadata": {},
   "outputs": [],
   "source": [
    "stand_dict = {'MP':'Matches Played',\n",
    "              'Gls':'Total Goals',\n",
    "              'Ast':'Total Assists',\n",
    "              'PK':'Total PK',\n",
    "              'PKatt':'Total PK Attempted',\n",
    "              'CrdY':'Total Yellow Cards',\n",
    "              'CrdR':'Total Red Cards',\n",
    "              'Gls.1':'Goals per 90',\n",
    "              'G+A':'Goals + Assists per 90',\n",
    "              'G-PK':'Goals - PK per 90',\n",
    "              'G+A-PK':'Goal + Assist - PK per 90',\n",
    "              'Ast.1':'Assists per 90',\n",
    "              'xG.1':'Expected Goal per 90',\n",
    "              'xG+xA':'Expected Goal + Expected Assist per 90',\n",
    "              'npxG+xA':'Non-Penalty Expected Goal + Expected Assist per 90'\n",
    "              'xA.1':'Expected Assist per 90',\n",
    "              'npxG.1':'Non-Penalty Expected Goal per 90'}\n",
    "\n",
    "standard_stats.rename(stand_dict,inplace=True)"
   ]
  },
  {
   "cell_type": "code",
   "execution_count": 6,
   "metadata": {},
   "outputs": [],
   "source": [
    "#standard_stats = standard_stats.iloc[:,:12].copy()"
   ]
  },
  {
   "cell_type": "code",
   "execution_count": 7,
   "metadata": {},
   "outputs": [],
   "source": [
    "standard_stats.iloc[:,4:] = standard_stats.iloc[:,4:].fillna(0)"
   ]
  },
  {
   "cell_type": "code",
   "execution_count": 8,
   "metadata": {},
   "outputs": [
    {
     "name": "stdout",
     "output_type": "stream",
     "text": [
      "<class 'pandas.core.frame.DataFrame'>\n",
      "RangeIndex: 621 entries, 0 to 620\n",
      "Data columns (total 28 columns):\n",
      " #   Column   Non-Null Count  Dtype  \n",
      "---  ------   --------------  -----  \n",
      " 0   Player   621 non-null    object \n",
      " 1   Nation   619 non-null    object \n",
      " 2   Pos      621 non-null    object \n",
      " 3   Age      614 non-null    float64\n",
      " 4   MP       621 non-null    int64  \n",
      " 5   Starts   621 non-null    int64  \n",
      " 6   Min      621 non-null    object \n",
      " 7   Gls      621 non-null    float64\n",
      " 8   Ast      621 non-null    float64\n",
      " 9   PK       621 non-null    float64\n",
      " 10  PKatt    621 non-null    float64\n",
      " 11  CrdY     621 non-null    float64\n",
      " 12  CrdR     621 non-null    float64\n",
      " 13  Gls.1    621 non-null    float64\n",
      " 14  Ast.1    621 non-null    float64\n",
      " 15  G+A      621 non-null    float64\n",
      " 16  G-PK     621 non-null    float64\n",
      " 17  G+A-PK   621 non-null    float64\n",
      " 18  xG       621 non-null    float64\n",
      " 19  npxG     621 non-null    float64\n",
      " 20  xA       621 non-null    float64\n",
      " 21  xG.1     621 non-null    float64\n",
      " 22  xA.1     621 non-null    float64\n",
      " 23  xG+xA    621 non-null    float64\n",
      " 24  npxG.1   621 non-null    float64\n",
      " 25  npxG+xA  621 non-null    float64\n",
      " 26  Matches  621 non-null    object \n",
      " 27  Team     621 non-null    object \n",
      "dtypes: float64(20), int64(2), object(6)\n",
      "memory usage: 136.0+ KB\n"
     ]
    }
   ],
   "source": [
    "standard_stats.info()"
   ]
  },
  {
   "cell_type": "code",
   "execution_count": 9,
   "metadata": {},
   "outputs": [],
   "source": [
    "goalkeeping = pd.read_csv(cwd + '\\\\raw_data\\AllPlayersTable1.csv')"
   ]
  },
  {
   "cell_type": "code",
   "execution_count": 10,
   "metadata": {},
   "outputs": [],
   "source": [
    "goalkeeping.iloc[:,4:] = goalkeeping.iloc[:,4:].fillna(0)"
   ]
  },
  {
   "cell_type": "code",
   "execution_count": 11,
   "metadata": {},
   "outputs": [
    {
     "name": "stdout",
     "output_type": "stream",
     "text": [
      "<class 'pandas.core.frame.DataFrame'>\n",
      "RangeIndex: 37 entries, 0 to 36\n",
      "Data columns (total 23 columns):\n",
      " #   Column   Non-Null Count  Dtype  \n",
      "---  ------   --------------  -----  \n",
      " 0   Player   37 non-null     object \n",
      " 1   Nation   37 non-null     object \n",
      " 2   Pos      37 non-null     object \n",
      " 3   Age      37 non-null     int64  \n",
      " 4   MP       37 non-null     int64  \n",
      " 5   Starts   37 non-null     int64  \n",
      " 6   Min      37 non-null     object \n",
      " 7   GA       37 non-null     int64  \n",
      " 8   GA90     37 non-null     float64\n",
      " 9   SoTA     37 non-null     int64  \n",
      " 10  Saves    37 non-null     int64  \n",
      " 11  Save%    37 non-null     float64\n",
      " 12  W        37 non-null     int64  \n",
      " 13  D        37 non-null     int64  \n",
      " 14  L        37 non-null     int64  \n",
      " 15  CS       37 non-null     int64  \n",
      " 16  CS%      37 non-null     float64\n",
      " 17  PKatt    37 non-null     int64  \n",
      " 18  PKA      37 non-null     int64  \n",
      " 19  PKsv     37 non-null     int64  \n",
      " 20  PKm      37 non-null     int64  \n",
      " 21  Matches  37 non-null     object \n",
      " 22  Team     37 non-null     object \n",
      "dtypes: float64(3), int64(14), object(6)\n",
      "memory usage: 6.8+ KB\n"
     ]
    }
   ],
   "source": [
    "goalkeeping.info()"
   ]
  },
  {
   "cell_type": "code",
   "execution_count": 12,
   "metadata": {},
   "outputs": [],
   "source": [
    "advanced_goalkeeping = pd.read_csv(cwd + '\\\\raw_data\\AllPlayersTable2.csv')"
   ]
  },
  {
   "cell_type": "code",
   "execution_count": 13,
   "metadata": {},
   "outputs": [],
   "source": [
    "advanced_goalkeeping.iloc[:,5:] = advanced_goalkeeping.iloc[:,5:].fillna(0)"
   ]
  },
  {
   "cell_type": "code",
   "execution_count": 14,
   "metadata": {},
   "outputs": [
    {
     "name": "stdout",
     "output_type": "stream",
     "text": [
      "<class 'pandas.core.frame.DataFrame'>\n",
      "RangeIndex: 37 entries, 0 to 36\n",
      "Data columns (total 32 columns):\n",
      " #   Column     Non-Null Count  Dtype  \n",
      "---  ------     --------------  -----  \n",
      " 0   Player     37 non-null     object \n",
      " 1   Nation     37 non-null     object \n",
      " 2   Pos        37 non-null     object \n",
      " 3   Age        37 non-null     int64  \n",
      " 4   90s        37 non-null     float64\n",
      " 5   GA         37 non-null     int64  \n",
      " 6   PKA        37 non-null     int64  \n",
      " 7   FK         37 non-null     int64  \n",
      " 8   CK         37 non-null     int64  \n",
      " 9   OG         37 non-null     int64  \n",
      " 10  PSxG       37 non-null     float64\n",
      " 11  PSxG/SoT   37 non-null     float64\n",
      " 12  PSxG+/-    37 non-null     float64\n",
      " 13  /90        37 non-null     float64\n",
      " 14  Cmp        37 non-null     int64  \n",
      " 15  Att        37 non-null     int64  \n",
      " 16  Cmp%       37 non-null     float64\n",
      " 17  Att.1      37 non-null     int64  \n",
      " 18  Thr        37 non-null     int64  \n",
      " 19  Launch%    37 non-null     float64\n",
      " 20  AvgLen     37 non-null     float64\n",
      " 21  Att.2      37 non-null     int64  \n",
      " 22  Launch%.1  37 non-null     float64\n",
      " 23  AvgLen.1   37 non-null     float64\n",
      " 24  Opp        37 non-null     int64  \n",
      " 25  Stp        37 non-null     int64  \n",
      " 26  Stp%       37 non-null     float64\n",
      " 27  #OPA       37 non-null     int64  \n",
      " 28  #OPA/90    37 non-null     float64\n",
      " 29  AvgDist    37 non-null     float64\n",
      " 30  Matches    37 non-null     object \n",
      " 31  Team       37 non-null     object \n",
      "dtypes: float64(13), int64(14), object(5)\n",
      "memory usage: 9.4+ KB\n"
     ]
    }
   ],
   "source": [
    "advanced_goalkeeping.info()"
   ]
  },
  {
   "cell_type": "code",
   "execution_count": 15,
   "metadata": {},
   "outputs": [],
   "source": [
    "shooting = pd.read_csv(cwd + '\\\\raw_data\\AllPlayersTable3.csv')"
   ]
  },
  {
   "cell_type": "code",
   "execution_count": 16,
   "metadata": {},
   "outputs": [
    {
     "name": "stdout",
     "output_type": "stream",
     "text": [
      "<class 'pandas.core.frame.DataFrame'>\n",
      "RangeIndex: 522 entries, 0 to 521\n",
      "Data columns (total 23 columns):\n",
      " #   Column   Non-Null Count  Dtype  \n",
      "---  ------   --------------  -----  \n",
      " 0   Player   522 non-null    object \n",
      " 1   Nation   522 non-null    object \n",
      " 2   Pos      522 non-null    object \n",
      " 3   Age      520 non-null    float64\n",
      " 4   90s      522 non-null    float64\n",
      " 5   Gls      522 non-null    int64  \n",
      " 6   Sh       522 non-null    int64  \n",
      " 7   SoT      522 non-null    int64  \n",
      " 8   SoT%     439 non-null    float64\n",
      " 9   Sh/90    522 non-null    float64\n",
      " 10  SoT/90   522 non-null    float64\n",
      " 11  G/Sh     439 non-null    float64\n",
      " 12  G/SoT    367 non-null    float64\n",
      " 13  FK       521 non-null    float64\n",
      " 14  PK       522 non-null    int64  \n",
      " 15  PKatt    522 non-null    int64  \n",
      " 16  xG       521 non-null    float64\n",
      " 17  npxG     521 non-null    float64\n",
      " 18  npxG/Sh  439 non-null    float64\n",
      " 19  G-xG     521 non-null    float64\n",
      " 20  np:G-xG  521 non-null    float64\n",
      " 21  Matches  522 non-null    object \n",
      " 22  Team     522 non-null    object \n",
      "dtypes: float64(13), int64(5), object(5)\n",
      "memory usage: 93.9+ KB\n"
     ]
    }
   ],
   "source": [
    "shooting.info()"
   ]
  },
  {
   "cell_type": "code",
   "execution_count": 17,
   "metadata": {},
   "outputs": [],
   "source": [
    "shooting.iloc[:,5:] = shooting.iloc[:,5:].fillna(0)"
   ]
  },
  {
   "cell_type": "code",
   "execution_count": 18,
   "metadata": {},
   "outputs": [],
   "source": [
    "passing = pd.read_csv(cwd + '\\\\raw_data\\AllPlayersTable4.csv')"
   ]
  },
  {
   "cell_type": "code",
   "execution_count": 19,
   "metadata": {},
   "outputs": [
    {
     "name": "stdout",
     "output_type": "stream",
     "text": [
      "<class 'pandas.core.frame.DataFrame'>\n",
      "RangeIndex: 522 entries, 0 to 521\n",
      "Data columns (total 29 columns):\n",
      " #   Column   Non-Null Count  Dtype  \n",
      "---  ------   --------------  -----  \n",
      " 0   Player   522 non-null    object \n",
      " 1   Nation   522 non-null    object \n",
      " 2   Pos      522 non-null    object \n",
      " 3   Age      520 non-null    float64\n",
      " 4   90s      522 non-null    float64\n",
      " 5   Cmp      521 non-null    float64\n",
      " 6   Att      521 non-null    float64\n",
      " 7   Cmp%     517 non-null    float64\n",
      " 8   TotDist  521 non-null    float64\n",
      " 9   PrgDist  521 non-null    float64\n",
      " 10  Cmp.1    521 non-null    float64\n",
      " 11  Att.1    521 non-null    float64\n",
      " 12  Cmp%.1   478 non-null    float64\n",
      " 13  Cmp.2    521 non-null    float64\n",
      " 14  Att.2    521 non-null    float64\n",
      " 15  Cmp%.2   516 non-null    float64\n",
      " 16  Cmp.3    521 non-null    float64\n",
      " 17  Att.3    521 non-null    float64\n",
      " 18  Cmp%.3   507 non-null    float64\n",
      " 19  Ast      522 non-null    int64  \n",
      " 20  xA       521 non-null    float64\n",
      " 21  A-xA     521 non-null    float64\n",
      " 22  KP       521 non-null    float64\n",
      " 23  1/3      521 non-null    float64\n",
      " 24  PPA      521 non-null    float64\n",
      " 25  CrsPA    521 non-null    float64\n",
      " 26  Prog     521 non-null    float64\n",
      " 27  Matches  522 non-null    object \n",
      " 28  Team     522 non-null    object \n",
      "dtypes: float64(23), int64(1), object(5)\n",
      "memory usage: 118.4+ KB\n"
     ]
    }
   ],
   "source": [
    "passing.info()"
   ]
  },
  {
   "cell_type": "code",
   "execution_count": 20,
   "metadata": {},
   "outputs": [],
   "source": [
    "passing.iloc[:,5:] = passing.iloc[:,5:].fillna(0)"
   ]
  },
  {
   "cell_type": "code",
   "execution_count": 21,
   "metadata": {},
   "outputs": [],
   "source": [
    "pass_types = pd.read_csv(cwd + '\\\\raw_data\\AllPlayersTable5.csv')"
   ]
  },
  {
   "cell_type": "code",
   "execution_count": 22,
   "metadata": {},
   "outputs": [
    {
     "name": "stdout",
     "output_type": "stream",
     "text": [
      "<class 'pandas.core.frame.DataFrame'>\n",
      "RangeIndex: 522 entries, 0 to 521\n",
      "Data columns (total 32 columns):\n",
      " #   Column   Non-Null Count  Dtype  \n",
      "---  ------   --------------  -----  \n",
      " 0   Player   522 non-null    object \n",
      " 1   Nation   522 non-null    object \n",
      " 2   Pos      522 non-null    object \n",
      " 3   Age      520 non-null    float64\n",
      " 4   90s      522 non-null    float64\n",
      " 5   Att      521 non-null    float64\n",
      " 6   Live     521 non-null    float64\n",
      " 7   Dead     521 non-null    float64\n",
      " 8   FK       521 non-null    float64\n",
      " 9   TB       521 non-null    float64\n",
      " 10  Press    521 non-null    float64\n",
      " 11  Sw       521 non-null    float64\n",
      " 12  Crs      522 non-null    int64  \n",
      " 13  CK       521 non-null    float64\n",
      " 14  In       521 non-null    float64\n",
      " 15  Out      521 non-null    float64\n",
      " 16  Str      521 non-null    float64\n",
      " 17  Ground   521 non-null    float64\n",
      " 18  Low      521 non-null    float64\n",
      " 19  High     521 non-null    float64\n",
      " 20  Left     521 non-null    float64\n",
      " 21  Right    521 non-null    float64\n",
      " 22  Head     521 non-null    float64\n",
      " 23  TI       521 non-null    float64\n",
      " 24  Other    521 non-null    float64\n",
      " 25  Cmp      521 non-null    float64\n",
      " 26  Off      521 non-null    float64\n",
      " 27  Out.1    521 non-null    float64\n",
      " 28  Int      521 non-null    float64\n",
      " 29  Blocks   521 non-null    float64\n",
      " 30  Matches  522 non-null    object \n",
      " 31  Team     522 non-null    object \n",
      "dtypes: float64(26), int64(1), object(5)\n",
      "memory usage: 130.6+ KB\n"
     ]
    }
   ],
   "source": [
    "pass_types.info()"
   ]
  },
  {
   "cell_type": "code",
   "execution_count": 23,
   "metadata": {},
   "outputs": [],
   "source": [
    "pass_types.iloc[:,5:] = pass_types.iloc[:,5:].fillna(0)"
   ]
  },
  {
   "cell_type": "code",
   "execution_count": 24,
   "metadata": {},
   "outputs": [],
   "source": [
    "goal_shot_creation = pd.read_csv(cwd + '\\\\raw_data\\AllPlayersTable6.csv')"
   ]
  },
  {
   "cell_type": "code",
   "execution_count": 25,
   "metadata": {},
   "outputs": [
    {
     "name": "stdout",
     "output_type": "stream",
     "text": [
      "<class 'pandas.core.frame.DataFrame'>\n",
      "RangeIndex: 522 entries, 0 to 521\n",
      "Data columns (total 22 columns):\n",
      " #   Column      Non-Null Count  Dtype  \n",
      "---  ------      --------------  -----  \n",
      " 0   Player      522 non-null    object \n",
      " 1   Nation      522 non-null    object \n",
      " 2   Pos         522 non-null    object \n",
      " 3   Age         520 non-null    float64\n",
      " 4   90s         522 non-null    float64\n",
      " 5   SCA         521 non-null    float64\n",
      " 6   SCA90       521 non-null    float64\n",
      " 7   PassLive    521 non-null    float64\n",
      " 8   PassDead    521 non-null    float64\n",
      " 9   Drib        521 non-null    float64\n",
      " 10  Sh          521 non-null    float64\n",
      " 11  Fld         521 non-null    float64\n",
      " 12  GCA         521 non-null    float64\n",
      " 13  GCA90       521 non-null    float64\n",
      " 14  PassLive.1  521 non-null    float64\n",
      " 15  PassDead.1  521 non-null    float64\n",
      " 16  Drib.1      521 non-null    float64\n",
      " 17  Sh.1        521 non-null    float64\n",
      " 18  Fld.1       521 non-null    float64\n",
      " 19  OG          521 non-null    float64\n",
      " 20  Matches     522 non-null    object \n",
      " 21  Team        522 non-null    object \n",
      "dtypes: float64(17), object(5)\n",
      "memory usage: 89.8+ KB\n"
     ]
    }
   ],
   "source": [
    "goal_shot_creation.info()"
   ]
  },
  {
   "cell_type": "code",
   "execution_count": 26,
   "metadata": {},
   "outputs": [],
   "source": [
    "goal_shot_creation.iloc[:,5:] = goal_shot_creation.iloc[:,5:].fillna(0)"
   ]
  },
  {
   "cell_type": "code",
   "execution_count": 27,
   "metadata": {},
   "outputs": [],
   "source": [
    "defensive_action = pd.read_csv(cwd + '\\\\raw_data\\AllPlayersTable7.csv')"
   ]
  },
  {
   "cell_type": "code",
   "execution_count": 28,
   "metadata": {},
   "outputs": [
    {
     "name": "stdout",
     "output_type": "stream",
     "text": [
      "<class 'pandas.core.frame.DataFrame'>\n",
      "RangeIndex: 522 entries, 0 to 521\n",
      "Data columns (total 30 columns):\n",
      " #   Column     Non-Null Count  Dtype  \n",
      "---  ------     --------------  -----  \n",
      " 0   Player     522 non-null    object \n",
      " 1   Nation     522 non-null    object \n",
      " 2   Pos        522 non-null    object \n",
      " 3   Age        520 non-null    float64\n",
      " 4   90s        522 non-null    float64\n",
      " 5   Tkl        521 non-null    float64\n",
      " 6   TklW       522 non-null    int64  \n",
      " 7   Def 3rd    521 non-null    float64\n",
      " 8   Mid 3rd    521 non-null    float64\n",
      " 9   Att 3rd    521 non-null    float64\n",
      " 10  Tkl.1      521 non-null    float64\n",
      " 11  Att        521 non-null    float64\n",
      " 12  Tkl%       467 non-null    float64\n",
      " 13  Past       521 non-null    float64\n",
      " 14  Press      521 non-null    float64\n",
      " 15  Succ       521 non-null    float64\n",
      " 16  %          503 non-null    float64\n",
      " 17  Def 3rd.1  521 non-null    float64\n",
      " 18  Mid 3rd.1  521 non-null    float64\n",
      " 19  Att 3rd.1  521 non-null    float64\n",
      " 20  Blocks     521 non-null    float64\n",
      " 21  Sh         521 non-null    float64\n",
      " 22  ShSv       521 non-null    float64\n",
      " 23  Pass       521 non-null    float64\n",
      " 24  Int        522 non-null    int64  \n",
      " 25  Tkl+Int    522 non-null    int64  \n",
      " 26  Clr        521 non-null    float64\n",
      " 27  Err        521 non-null    float64\n",
      " 28  Matches    522 non-null    object \n",
      " 29  Team       522 non-null    object \n",
      "dtypes: float64(22), int64(3), object(5)\n",
      "memory usage: 122.5+ KB\n"
     ]
    }
   ],
   "source": [
    "defensive_action.info()"
   ]
  },
  {
   "cell_type": "code",
   "execution_count": 29,
   "metadata": {},
   "outputs": [],
   "source": [
    "defensive_action.iloc[:,5:] = defensive_action.iloc[:,5:].fillna(0)"
   ]
  },
  {
   "cell_type": "code",
   "execution_count": 30,
   "metadata": {},
   "outputs": [],
   "source": [
    "possession = pd.read_csv(cwd + '\\\\raw_data\\AllPlayersTable8.csv')"
   ]
  },
  {
   "cell_type": "code",
   "execution_count": 31,
   "metadata": {},
   "outputs": [
    {
     "name": "stdout",
     "output_type": "stream",
     "text": [
      "<class 'pandas.core.frame.DataFrame'>\n",
      "RangeIndex: 522 entries, 0 to 521\n",
      "Data columns (total 27 columns):\n",
      " #   Column   Non-Null Count  Dtype  \n",
      "---  ------   --------------  -----  \n",
      " 0   Player   522 non-null    object \n",
      " 1   Nation   522 non-null    object \n",
      " 2   Pos      522 non-null    object \n",
      " 3   Age      520 non-null    float64\n",
      " 4   90s      522 non-null    float64\n",
      " 5   Touches  521 non-null    float64\n",
      " 6   Def Pen  521 non-null    float64\n",
      " 7   Def 3rd  521 non-null    float64\n",
      " 8   Mid 3rd  521 non-null    float64\n",
      " 9   Att 3rd  521 non-null    float64\n",
      " 10  Att Pen  521 non-null    float64\n",
      " 11  Live     521 non-null    float64\n",
      " 12  Succ     521 non-null    float64\n",
      " 13  Att      521 non-null    float64\n",
      " 14  Succ%    457 non-null    float64\n",
      " 15  #Pl      521 non-null    float64\n",
      " 16  Megs     521 non-null    float64\n",
      " 17  Carries  521 non-null    float64\n",
      " 18  TotDist  521 non-null    float64\n",
      " 19  PrgDist  521 non-null    float64\n",
      " 20  Targ     521 non-null    float64\n",
      " 21  Rec      521 non-null    float64\n",
      " 22  Rec%     520 non-null    float64\n",
      " 23  Miscon   521 non-null    float64\n",
      " 24  Dispos   521 non-null    float64\n",
      " 25  Matches  522 non-null    object \n",
      " 26  Team     522 non-null    object \n",
      "dtypes: float64(22), object(5)\n",
      "memory usage: 110.2+ KB\n"
     ]
    }
   ],
   "source": [
    "possession.info()"
   ]
  },
  {
   "cell_type": "code",
   "execution_count": 32,
   "metadata": {},
   "outputs": [],
   "source": [
    "possession.iloc[:,5:] = possession.iloc[:,5:].fillna(0)"
   ]
  },
  {
   "cell_type": "code",
   "execution_count": 33,
   "metadata": {},
   "outputs": [],
   "source": [
    "play_time = pd.read_csv(cwd + '\\\\raw_data\\AllPlayersTable9.csv')"
   ]
  },
  {
   "cell_type": "code",
   "execution_count": 34,
   "metadata": {},
   "outputs": [
    {
     "name": "stdout",
     "output_type": "stream",
     "text": [
      "<class 'pandas.core.frame.DataFrame'>\n",
      "RangeIndex: 621 entries, 0 to 620\n",
      "Data columns (total 27 columns):\n",
      " #   Column    Non-Null Count  Dtype  \n",
      "---  ------    --------------  -----  \n",
      " 0   Player    621 non-null    object \n",
      " 1   Nation    619 non-null    object \n",
      " 2   Pos       621 non-null    object \n",
      " 3   Age       614 non-null    float64\n",
      " 4   MP        621 non-null    int64  \n",
      " 5   Min       522 non-null    object \n",
      " 6   Mn/MP     522 non-null    float64\n",
      " 7   Min%      522 non-null    float64\n",
      " 8   90s       522 non-null    float64\n",
      " 9   Starts    621 non-null    int64  \n",
      " 10  Mn/Start  476 non-null    float64\n",
      " 11  Subs      621 non-null    int64  \n",
      " 12  Mn/Sub    422 non-null    float64\n",
      " 13  unSub     621 non-null    int64  \n",
      " 14  PPM       522 non-null    float64\n",
      " 15  onG       522 non-null    float64\n",
      " 16  onGA      522 non-null    float64\n",
      " 17  +/-       522 non-null    float64\n",
      " 18  +/-90     522 non-null    float64\n",
      " 19  On-Off    507 non-null    float64\n",
      " 20  onxG      521 non-null    float64\n",
      " 21  onxGA     521 non-null    float64\n",
      " 22  xG+/-     521 non-null    float64\n",
      " 23  xG+/-90   521 non-null    float64\n",
      " 24  On-Off.1  506 non-null    float64\n",
      " 25  Matches   621 non-null    object \n",
      " 26  Team      621 non-null    object \n",
      "dtypes: float64(17), int64(4), object(6)\n",
      "memory usage: 131.1+ KB\n"
     ]
    }
   ],
   "source": [
    "play_time.info()"
   ]
  },
  {
   "cell_type": "code",
   "execution_count": 35,
   "metadata": {},
   "outputs": [],
   "source": [
    "play_time.iloc[:,4:] = play_time.iloc[:,4:].fillna(0)"
   ]
  },
  {
   "cell_type": "code",
   "execution_count": 36,
   "metadata": {},
   "outputs": [],
   "source": [
    "misc = pd.read_csv(cwd + '\\\\raw_data\\AllPlayersTable10.csv')"
   ]
  },
  {
   "cell_type": "code",
   "execution_count": 37,
   "metadata": {},
   "outputs": [
    {
     "name": "stdout",
     "output_type": "stream",
     "text": [
      "<class 'pandas.core.frame.DataFrame'>\n",
      "RangeIndex: 522 entries, 0 to 521\n",
      "Data columns (total 23 columns):\n",
      " #   Column   Non-Null Count  Dtype  \n",
      "---  ------   --------------  -----  \n",
      " 0   Player   522 non-null    object \n",
      " 1   Nation   522 non-null    object \n",
      " 2   Pos      522 non-null    object \n",
      " 3   Age      520 non-null    float64\n",
      " 4   90s      522 non-null    float64\n",
      " 5   CrdY     522 non-null    int64  \n",
      " 6   CrdR     522 non-null    int64  \n",
      " 7   2CrdY    522 non-null    int64  \n",
      " 8   Fls      522 non-null    int64  \n",
      " 9   Fld      522 non-null    int64  \n",
      " 10  Off      522 non-null    int64  \n",
      " 11  Crs      522 non-null    int64  \n",
      " 12  Int      522 non-null    int64  \n",
      " 13  TklW     522 non-null    int64  \n",
      " 14  PKwon    521 non-null    float64\n",
      " 15  PKcon    521 non-null    float64\n",
      " 16  OG       522 non-null    int64  \n",
      " 17  Recov    521 non-null    float64\n",
      " 18  Won      521 non-null    float64\n",
      " 19  Lost     521 non-null    float64\n",
      " 20  Won%     468 non-null    float64\n",
      " 21  Matches  522 non-null    object \n",
      " 22  Team     522 non-null    object \n",
      "dtypes: float64(8), int64(10), object(5)\n",
      "memory usage: 93.9+ KB\n"
     ]
    }
   ],
   "source": [
    "misc.info()"
   ]
  },
  {
   "cell_type": "code",
   "execution_count": 38,
   "metadata": {},
   "outputs": [],
   "source": [
    "misc.iloc[:,5:] = misc.iloc[:,5:].fillna(0)"
   ]
  },
  {
   "cell_type": "code",
   "execution_count": 39,
   "metadata": {},
   "outputs": [],
   "source": [
    "list_var = [misc,\n",
    "            play_time,\n",
    "            possession,\n",
    "            defensive_action,\n",
    "            goal_shot_creation,\n",
    "            goalkeeping,\n",
    "            pass_types,\n",
    "            passing,\n",
    "            standard_stats,\n",
    "            advanced_goalkeeping]"
   ]
  },
  {
   "cell_type": "code",
   "execution_count": 40,
   "metadata": {},
   "outputs": [],
   "source": [
    "for var in list_var:\n",
    "    var['Pos1'] = var['Pos'].apply(lambda x: x.split(',')[0] if len(x.split(',')) == 2 else x)\n",
    "    var['Pos2'] = var['Pos'].apply(lambda x: x.split(',')[1] if len(x.split(',')) == 2 else np.nan)\n",
    "    var.drop(['Matches','Pos'],axis=1,inplace=True)\n",
    "    #var['Nation'] = var['Nation'].fillna('')\n",
    "    #var['Nation'] = var['Nation'].apply(lambda x: x if x == '' else x.split(' ')[1])"
   ]
  },
  {
   "cell_type": "code",
   "execution_count": 41,
   "metadata": {},
   "outputs": [],
   "source": [
    "if os.path.isdir('processed_data'):\n",
    "    shutil.rmtree('processed_data')\n",
    "    \n",
    "os.makedirs('processed_data')    \n",
    "os.chdir('processed_data')"
   ]
  },
  {
   "cell_type": "code",
   "execution_count": 42,
   "metadata": {},
   "outputs": [],
   "source": [
    "misc.to_csv('Misc_201929_Table.csv',index=False)\n",
    "play_time.to_csv('Play_Time_201929_Table.csv',index=False)\n",
    "possession.to_csv('Possession_201929_Table.csv',index=False)\n",
    "defensive_action.to_csv('Defensive_Action_201929_Table.csv',index=False)\n",
    "goal_shot_creation.to_csv('Goal_Shot_Creation_201929_Table.csv',index=False)\n",
    "goalkeeping.to_csv('Goalkeeping_201929_Table.csv',index=False)\n",
    "pass_types.to_csv('Pass_Types_201929_Table.csv',index=False)\n",
    "passing.to_csv('Passing_201929_Table.csv',index=False)\n",
    "standard_stats.to_csv('Standard_Stats_201929_Table.csv',index=False)\n",
    "advanced_goalkeeping.to_csv('Advanced_Goalkeeping_201929_Table.csv',index=False)"
   ]
  },
  {
   "cell_type": "code",
   "execution_count": 43,
   "metadata": {},
   "outputs": [],
   "source": [
    "os.chdir(cwd)"
   ]
  }
 ],
 "metadata": {
  "kernelspec": {
   "display_name": "Python 3",
   "language": "python",
   "name": "python3"
  },
  "language_info": {
   "codemirror_mode": {
    "name": "ipython",
    "version": 3
   },
   "file_extension": ".py",
   "mimetype": "text/x-python",
   "name": "python",
   "nbconvert_exporter": "python",
   "pygments_lexer": "ipython3",
   "version": "3.8.3"
  }
 },
 "nbformat": 4,
 "nbformat_minor": 4
}
