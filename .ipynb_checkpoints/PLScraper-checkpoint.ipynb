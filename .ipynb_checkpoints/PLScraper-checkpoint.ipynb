{
 "cells": [
  {
   "cell_type": "markdown",
   "metadata": {},
   "source": [
    "# PL Web Scraper :)"
   ]
  },
  {
   "cell_type": "code",
   "execution_count": null,
   "metadata": {},
   "outputs": [],
   "source": [
    "from bs4 import BeautifulSoup\n",
    "from selenium import webdriver\n",
    "from webdriver_manager.chrome import ChromeDriverManager\n",
    "import pandas as pd\n",
    "import os\n",
    "import sys\n",
    "import shutil"
   ]
  },
  {
   "cell_type": "code",
   "execution_count": null,
   "metadata": {},
   "outputs": [],
   "source": [
    "driver = webdriver.Chrome(ChromeDriverManager().install())\n",
    "driver.get('https://fbref.com/en/comps/9/stats/Premier-League-Stats')\n",
    "\n",
    "presoup = BeautifulSoup(driver.page_source,'html.parser')"
   ]
  },
  {
   "cell_type": "code",
   "execution_count": null,
   "metadata": {},
   "outputs": [],
   "source": [
    "team_tags = presoup.find_all('th',{'class':'left','data-stat':'squad'})\n",
    "\n",
    "team_names = []\n",
    "for team in team_tags:\n",
    "    team_names.append(team.text)\n",
    "    \n",
    "team_links = []\n",
    "for team in team_tags:\n",
    "    temp = str(team.a)\n",
    "    split = temp.split('\"')[1]\n",
    "    team_links.append(split)    \n",
    "    \n",
    "team_dic = {'TeamName':team_names,\n",
    "           'Link':team_links}\n",
    "\n",
    "team_df = pd.DataFrame(team_dic)"
   ]
  },
  {
   "cell_type": "code",
   "execution_count": null,
   "metadata": {},
   "outputs": [],
   "source": [
    "team_scrape_dict = {}\n",
    "homepage = 'https://fbref.com'\n",
    "\n",
    "for link,team_name in zip(team_df['Link'],team_df['TeamName']):\n",
    "    driver.get('{}{}'.format(homepage,link))\n",
    "    presoup = BeautifulSoup(driver.page_source,'html.parser')\n",
    "    \n",
    "    # Each Table\n",
    "    tbody = presoup.find_all('tbody')\n",
    "    thead = presoup.find_all('thead')\n",
    "    \n",
    "    numbers = [0,2,3,4,5,6,7,8,9,10,11,12]\n",
    "    list_of_table_dfs = []\n",
    "    for num in numbers:\n",
    "        x = thead[num].find_all('th',{'scope':'col'})\n",
    "        columns = []\n",
    "        for each in x:\n",
    "            string_text = str(each)\n",
    "            split = (string_text.split('data-stat=\"')[1]).split('\"')[0]\n",
    "            columns.append(split)\n",
    "        \n",
    "        player_row = tbody[num].find_all('tr')\n",
    "\n",
    "        player_list = []\n",
    "\n",
    "        for player in player_row:\n",
    "            data_list = []\n",
    "            for data in player:\n",
    "                #print(data.text)\n",
    "                data_list.append(data.text)\n",
    "\n",
    "            player_list.append(data_list)\n",
    "        \n",
    "        table_df = pd.DataFrame(player_list,columns=columns)\n",
    "        table_df['team'] = team_name\n",
    "        list_of_table_dfs.append(table_df)\n",
    "    \n",
    "    team_scrape_dict[str(team_name)] = list_of_table_dfs\n",
    "        "
   ]
  },
  {
   "cell_type": "code",
   "execution_count": null,
   "metadata": {},
   "outputs": [],
   "source": [
    "cwd = os.getcwd()\n",
    "cwd"
   ]
  },
  {
   "cell_type": "code",
   "execution_count": null,
   "metadata": {},
   "outputs": [],
   "source": [
    "if os.path.isdir('raw_data'):\n",
    "    shutil.rmtree('raw_data')\n",
    "    #os.rmdir(cwd + '\\raw_data')\n",
    "\n",
    "os.makedirs('raw_data')    \n",
    "os.chdir('raw_data')"
   ]
  },
  {
   "cell_type": "code",
   "execution_count": null,
   "metadata": {},
   "outputs": [],
   "source": [
    "for i in range(len(team_scrape_dict['Liverpool'])):\n",
    "    agg_df = pd.DataFrame()\n",
    "    \n",
    "    for each_team in team_scrape_dict:\n",
    "        agg_df = agg_df.append(team_scrape_dict[each_team][i])\n",
    "        \n",
    "    \n",
    "    agg_df.to_csv('AllPlayersTable_Bundesliga{}.csv'.format(i),index=False)"
   ]
  },
  {
   "cell_type": "code",
   "execution_count": null,
   "metadata": {},
   "outputs": [],
   "source": [
    "os.chdir(cwd)"
   ]
  },
  {
   "cell_type": "code",
   "execution_count": null,
   "metadata": {},
   "outputs": [],
   "source": []
  }
 ],
 "metadata": {
  "kernelspec": {
   "display_name": "Python 3",
   "language": "python",
   "name": "python3"
  },
  "language_info": {
   "codemirror_mode": {
    "name": "ipython",
    "version": 3
   },
   "file_extension": ".py",
   "mimetype": "text/x-python",
   "name": "python",
   "nbconvert_exporter": "python",
   "pygments_lexer": "ipython3",
   "version": "3.8.3"
  }
 },
 "nbformat": 4,
 "nbformat_minor": 4
}
